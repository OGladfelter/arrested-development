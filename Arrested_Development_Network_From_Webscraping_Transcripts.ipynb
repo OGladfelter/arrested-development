{
 "cells": [
  {
   "cell_type": "markdown",
   "metadata": {},
   "source": [
    "# Arrested Development Network From Webscraping Transcripts\n",
    "## By Oliver Gladfelter\n",
    "### Nov 14, 2019"
   ]
  },
  {
   "cell_type": "code",
   "execution_count": 1,
   "metadata": {},
   "outputs": [],
   "source": [
    "import pandas as pd\n",
    "import lxml.html as lh\n",
    "import io\n",
    "import requests\n",
    "from bs4 import BeautifulSoup\n",
    "import re\n",
    "import itertools\n",
    "import matplotlib.pyplot as plt\n",
    "import statsmodels.formula.api as sm\n",
    "import json"
   ]
  },
  {
   "cell_type": "markdown",
   "metadata": {},
   "source": [
    "## Create list of links to each episode"
   ]
  },
  {
   "cell_type": "code",
   "execution_count": 2,
   "metadata": {},
   "outputs": [],
   "source": [
    "html = requests.get(\"https://arresteddevelopment.fandom.com/wiki/Category:Season_One_Transcripts\")\n",
    "html = html.text\n",
    "bs = BeautifulSoup(html, \"lxml\")\n",
    "links1 = bs.find(\"ol\").findAll(\"li\")\n",
    "\n",
    "html = requests.get(\"https://arresteddevelopment.fandom.com/wiki/Category:Season_Two_Transcripts\")\n",
    "html = html.text\n",
    "bs = BeautifulSoup(html, \"lxml\")\n",
    "links2 = bs.find(\"ol\").findAll(\"li\")\n",
    "\n",
    "html = requests.get(\"https://arresteddevelopment.fandom.com/wiki/Category:Season_Three_Transcripts\")\n",
    "html = html.text\n",
    "bs = BeautifulSoup(html, \"lxml\")\n",
    "links3 = bs.find(\"ol\").findAll(\"li\")\n",
    "\n",
    "html = requests.get(\"https://arresteddevelopment.fandom.com/wiki/Category:Season_Four_Transcripts\")\n",
    "html = html.text\n",
    "bs = BeautifulSoup(html, \"lxml\")\n",
    "links4 = bs.find(\"ol\").findAll(\"li\")\n",
    "\n",
    "links = links1 + links2 + links3 + links4"
   ]
  },
  {
   "cell_type": "markdown",
   "metadata": {},
   "source": [
    "## Function to count how many scenes each character appeared in in an episode"
   ]
  },
  {
   "cell_type": "code",
   "execution_count": 3,
   "metadata": {},
   "outputs": [],
   "source": [
    "def countCharacterCountsInEpisode(transcriptLink):\n",
    "    \"\"\"\n",
    "    Doesn't return anything - just counts number of each character's scenes in a given episode and updates sceneCount dictionary\n",
    "    \"\"\"\n",
    "    \n",
    "    # web scrape entire transcript, grab all <p> (lines of dialogue) and <h3>, <h2>, <d1> (denotes new scene) tags\n",
    "    html = requests.get(transcriptLink)\n",
    "    html = html.text\n",
    "    bs = BeautifulSoup(html, \"lxml\")\n",
    "    script = bs.findAll(['p','h3', 'h2', 'dl'])\n",
    "\n",
    "    # get rid of title, credits, cast data\n",
    "    for num in range(0,len(script)):\n",
    "        if script[num].text == 'Act 1': # this should be the start of the script\n",
    "            script = script[num+1:]\n",
    "            break\n",
    "    \n",
    "    allScenes = []\n",
    "    oneScene = []\n",
    "\n",
    "    for tag in script:\n",
    "        # span tags represent official new scenes/acts in the script\n",
    "        # dd tags represent flashbacks\n",
    "        # i tags with 'cut' in the text represent cuts / cutaways\n",
    "        # all three cases are interpreted as new scenes\n",
    "        if (tag.find('span') is not None) | (tag.find('dd') is not None) | ((tag.find('i') is not None) & ('cut' in tag.text.lower())): #  represents new scene\n",
    "            allScenes.append(oneScene) # append current scene to allScenes list\n",
    "            oneScene = [] # next scene restarts with empty list\n",
    "        elif tag.find('b') is not None: # represents dialogue. The bold text specifically is the speaker:\n",
    "            oneScene.append(tag.find('b').text.strip(\" \").strip(\":\")) # add character speaking the dialogue to list \n",
    "                  \n",
    "    allScenes = [x for x in allScenes if x != []] # remove all error, empty scenes\n",
    "    \n",
    "    #sceneCount = {} # used to count number of scenes each character in episode appear in\n",
    "\n",
    "    for scene in allScenes:\n",
    "        scene = set(scene) # show only unique values; show each name just once\n",
    "\n",
    "        for name in scene: # iterate over all names in each scene\n",
    "            if name in sceneCount: # if already in dictionary,\n",
    "                sceneCount[name] = sceneCount[name] + 1 # increment count value by 1\n",
    "            else: # if not already in dictionary\n",
    "                sceneCount[name] = 1 # add with count of 1"
   ]
  },
  {
   "cell_type": "markdown",
   "metadata": {},
   "source": [
    "## Run character counting function on all episodes in season 1"
   ]
  },
  {
   "cell_type": "code",
   "execution_count": 4,
   "metadata": {},
   "outputs": [
    {
     "data": {
      "text/plain": [
       "119"
      ]
     },
     "execution_count": 4,
     "metadata": {},
     "output_type": "execute_result"
    }
   ],
   "source": [
    "sceneCount = {} # used to count number of scenes each character in episode appear in\n",
    "\n",
    "for link in links: # iterate over each episode link\n",
    "    countCharacterCountsInEpisode(\"https://arresteddevelopment.fandom.com\" + link.find('a')['href']) # update sceneCount dictionary\n",
    "    \n",
    "# remove the quite verbose narrator\n",
    "sceneCount.pop('Narrator')\n",
    "sceneCount.pop('Guest Starring')\n",
    "sceneCount.pop('Starring')\n",
    "\n",
    "sceneCount.update({'George': sceneCount['George'] + sceneCount['George, Sr.']}) # George's lines are sometimes attributed to 'George, Sr.' so we need to combine these two results in the dictionary\n",
    "sceneCount.pop('George, Sr.') # now remove because it's redundant "
   ]
  },
  {
   "cell_type": "markdown",
   "metadata": {},
   "source": [
    "## Convert resulting dictionary into dataframe; extract top characters by count into list"
   ]
  },
  {
   "cell_type": "code",
   "execution_count": 5,
   "metadata": {},
   "outputs": [],
   "source": [
    "characterSceneCountsDF = pd.DataFrame({'character':list(sceneCount.keys()), 'sceneCount':list(sceneCount.values())}).sort_values('sceneCount',ascending=False).reset_index()\n",
    "del characterSceneCountsDF['index']"
   ]
  },
  {
   "cell_type": "code",
   "execution_count": 6,
   "metadata": {},
   "outputs": [],
   "source": [
    "mainCharacters = list(characterSceneCountsDF['character'][0:9])"
   ]
  },
  {
   "cell_type": "code",
   "execution_count": 7,
   "metadata": {},
   "outputs": [
    {
     "data": {
      "text/html": [
       "<div>\n",
       "<style scoped>\n",
       "    .dataframe tbody tr th:only-of-type {\n",
       "        vertical-align: middle;\n",
       "    }\n",
       "\n",
       "    .dataframe tbody tr th {\n",
       "        vertical-align: top;\n",
       "    }\n",
       "\n",
       "    .dataframe thead th {\n",
       "        text-align: right;\n",
       "    }\n",
       "</style>\n",
       "<table border=\"1\" class=\"dataframe\">\n",
       "  <thead>\n",
       "    <tr style=\"text-align: right;\">\n",
       "      <th></th>\n",
       "      <th>character</th>\n",
       "      <th>sceneCount</th>\n",
       "    </tr>\n",
       "  </thead>\n",
       "  <tbody>\n",
       "    <tr>\n",
       "      <th>0</th>\n",
       "      <td>Michael</td>\n",
       "      <td>541</td>\n",
       "    </tr>\n",
       "    <tr>\n",
       "      <th>1</th>\n",
       "      <td>G.O.B.</td>\n",
       "      <td>297</td>\n",
       "    </tr>\n",
       "    <tr>\n",
       "      <th>2</th>\n",
       "      <td>Lindsay</td>\n",
       "      <td>258</td>\n",
       "    </tr>\n",
       "    <tr>\n",
       "      <th>3</th>\n",
       "      <td>Lucille</td>\n",
       "      <td>239</td>\n",
       "    </tr>\n",
       "    <tr>\n",
       "      <th>4</th>\n",
       "      <td>George Michael</td>\n",
       "      <td>221</td>\n",
       "    </tr>\n",
       "    <tr>\n",
       "      <th>5</th>\n",
       "      <td>Tobias</td>\n",
       "      <td>203</td>\n",
       "    </tr>\n",
       "    <tr>\n",
       "      <th>6</th>\n",
       "      <td>George</td>\n",
       "      <td>182</td>\n",
       "    </tr>\n",
       "    <tr>\n",
       "      <th>7</th>\n",
       "      <td>Buster</td>\n",
       "      <td>170</td>\n",
       "    </tr>\n",
       "    <tr>\n",
       "      <th>8</th>\n",
       "      <td>Maeby</td>\n",
       "      <td>158</td>\n",
       "    </tr>\n",
       "  </tbody>\n",
       "</table>\n",
       "</div>"
      ],
      "text/plain": [
       "        character  sceneCount\n",
       "0         Michael         541\n",
       "1          G.O.B.         297\n",
       "2         Lindsay         258\n",
       "3         Lucille         239\n",
       "4  George Michael         221\n",
       "5          Tobias         203\n",
       "6          George         182\n",
       "7          Buster         170\n",
       "8           Maeby         158"
      ]
     },
     "execution_count": 7,
     "metadata": {},
     "output_type": "execute_result"
    }
   ],
   "source": [
    "characterSceneCountsDF.head(9)"
   ]
  },
  {
   "cell_type": "markdown",
   "metadata": {},
   "source": [
    "## Function to scrape episode transcript, count pairs between characters, return df"
   ]
  },
  {
   "cell_type": "code",
   "execution_count": 8,
   "metadata": {},
   "outputs": [],
   "source": [
    "def countPairsInEpisode(transcriptLink):\n",
    "    # web scrape entire transcript, grab all <p> (lines of dialogue) and <h3>, <h2>, <d1> (denotes new scene) tags\n",
    "    html = requests.get(transcriptLink)\n",
    "    html = html.text\n",
    "    bs = BeautifulSoup(html, \"lxml\")\n",
    "    script = bs.findAll(['p','h3', 'h2', 'dl'])\n",
    "\n",
    "    # get rid of title, credits, cast data\n",
    "    for num in range(0,len(script)):\n",
    "        if script[num].text == 'Act 1': # this should be the start of the script\n",
    "            script = script[num+1:]\n",
    "            break\n",
    "    \n",
    "    allScenes = []\n",
    "    oneScene = []\n",
    "\n",
    "    for tag in script:\n",
    "        # span tags represent official new scenes/acts in the script\n",
    "        # dd tags represent flashbacks\n",
    "        # i tags with 'cut' in the text represent cuts / cutaways\n",
    "        # all three cases are interpreted as new scenes\n",
    "        if (tag.find('span') is not None) | (tag.find('dd') is not None) | ((tag.find('i') is not None) & ('cut' in tag.text.lower())): #  represents new scene\n",
    "            allScenes.append(oneScene) # append current scene to allScenes list\n",
    "            oneScene = [] # next scene restarts with empty list\n",
    "        elif tag.find('b') is not None: # represents dialogue. The bold text specifically is the speaker:\n",
    "            oneScene.append(tag.find('b').text.strip(\" \").strip(\":\")) # add character speaking the dialogue to list \n",
    "                  \n",
    "    allScenes = [x for x in allScenes if x != []] # remove all error, empty scenes\n",
    "\n",
    "    # remove all character who aren't in mainCharacters list defined above\n",
    "    for num in range(0,len(allScenes)):\n",
    "        allScenes[num] = ['George' if x == 'George, Sr.' else x for x in allScenes[num]] # change all instances of 'George, Sr' to 'George'\n",
    "        allScenes[num] = [x for x in allScenes[num] if x in mainCharacters]\n",
    "\n",
    "    comboDictionary = {}\n",
    "\n",
    "    for scene in allScenes:\n",
    "        combos = list(set(itertools.combinations(scene, 2))) # finds all possible combinations of any two main characters in a scene together\n",
    "\n",
    "        combos.sort()\n",
    "\n",
    "        for combo in combos:\n",
    "            if combo[0] != combo[1]: # because 'Michael and Michael' is technically a possible combo. Omit these. \n",
    "                combo = list(combo) # convert into a list, so we can perform the next step\n",
    "                combo.sort() # sort, so we can avoid measuring both 'Michael and Lindsay' AND 'Lindsay and Michael'\n",
    "                combo = str(combo) # convert to string so we can add to dictionary\n",
    "                if combo in comboDictionary: \n",
    "                    comboDictionary[combo] = comboDictionary[combo] + 1 # if already in dictionary, increment count value by 1\n",
    "                else:\n",
    "                    comboDictionary[combo] = 1 # if not in dictionary already, add with count value of 1\n",
    "                    \n",
    "    df = pd.DataFrame([comboDictionary]) # flat dataframe\n",
    "    df['episode'] = transcriptLink\n",
    "    return df\n",
    "\n",
    "    # not flat\n",
    "    # data = pd.DataFrame({'pair':list(comboDictionary.keys()), 'sceneCount':list(comboDictionary.values())}).sort_values('sceneCount',ascending=False)"
   ]
  },
  {
   "cell_type": "markdown",
   "metadata": {},
   "source": [
    "## Calculate # of common scenes between all unique character pairs for each episode"
   ]
  },
  {
   "cell_type": "code",
   "execution_count": 9,
   "metadata": {},
   "outputs": [],
   "source": [
    "pairsAllEpisodes = countPairsInEpisode(\"https://arresteddevelopment.fandom.com/wiki/Transcript_of_Pilot\")\n",
    "\n",
    "linksNoPilot = links[1:]\n",
    "\n",
    "for link in linksNoPilot: # iterate over each episode link\n",
    "    data = countPairsInEpisode(\"https://arresteddevelopment.fandom.com\" + link.find('a')['href'])\n",
    "    pairsAllEpisodes = pd.concat([pairsAllEpisodes, data], sort = True)\n",
    "    \n",
    "pairsAllEpisodes = pairsAllEpisodes.fillna(0)\n",
    "pairsAllEpisodes = pairsAllEpisodes.reset_index()\n",
    "del pairsAllEpisodes['index']"
   ]
  },
  {
   "cell_type": "code",
   "execution_count": 10,
   "metadata": {},
   "outputs": [
    {
     "data": {
      "text/html": [
       "<div>\n",
       "<style scoped>\n",
       "    .dataframe tbody tr th:only-of-type {\n",
       "        vertical-align: middle;\n",
       "    }\n",
       "\n",
       "    .dataframe tbody tr th {\n",
       "        vertical-align: top;\n",
       "    }\n",
       "\n",
       "    .dataframe thead th {\n",
       "        text-align: right;\n",
       "    }\n",
       "</style>\n",
       "<table border=\"1\" class=\"dataframe\">\n",
       "  <thead>\n",
       "    <tr style=\"text-align: right;\">\n",
       "      <th></th>\n",
       "      <th>['Buster', 'G.O.B.']</th>\n",
       "      <th>['Buster', 'George Michael']</th>\n",
       "      <th>['Buster', 'George']</th>\n",
       "      <th>['Buster', 'Lindsay']</th>\n",
       "      <th>['Buster', 'Lucille']</th>\n",
       "      <th>['Buster', 'Maeby']</th>\n",
       "      <th>['Buster', 'Michael']</th>\n",
       "      <th>['Buster', 'Tobias']</th>\n",
       "      <th>['G.O.B.', 'George Michael']</th>\n",
       "      <th>['G.O.B.', 'George']</th>\n",
       "      <th>...</th>\n",
       "      <th>['Lindsay', 'Maeby']</th>\n",
       "      <th>['Lindsay', 'Michael']</th>\n",
       "      <th>['Lindsay', 'Tobias']</th>\n",
       "      <th>['Lucille', 'Maeby']</th>\n",
       "      <th>['Lucille', 'Michael']</th>\n",
       "      <th>['Lucille', 'Tobias']</th>\n",
       "      <th>['Maeby', 'Michael']</th>\n",
       "      <th>['Maeby', 'Tobias']</th>\n",
       "      <th>['Michael', 'Tobias']</th>\n",
       "      <th>episode</th>\n",
       "    </tr>\n",
       "  </thead>\n",
       "  <tbody>\n",
       "    <tr>\n",
       "      <th>0</th>\n",
       "      <td>8.0</td>\n",
       "      <td>4.0</td>\n",
       "      <td>2.0</td>\n",
       "      <td>7.0</td>\n",
       "      <td>9.0</td>\n",
       "      <td>2.0</td>\n",
       "      <td>8.0</td>\n",
       "      <td>6.0</td>\n",
       "      <td>7.0</td>\n",
       "      <td>2.0</td>\n",
       "      <td>...</td>\n",
       "      <td>5.0</td>\n",
       "      <td>15.0</td>\n",
       "      <td>13.0</td>\n",
       "      <td>4.0</td>\n",
       "      <td>14.0</td>\n",
       "      <td>10.0</td>\n",
       "      <td>2.0</td>\n",
       "      <td>2.0</td>\n",
       "      <td>11.0</td>\n",
       "      <td>https://arresteddevelopment.fandom.com/wiki/Tr...</td>\n",
       "    </tr>\n",
       "    <tr>\n",
       "      <th>1</th>\n",
       "      <td>0.0</td>\n",
       "      <td>0.0</td>\n",
       "      <td>0.0</td>\n",
       "      <td>0.0</td>\n",
       "      <td>0.0</td>\n",
       "      <td>0.0</td>\n",
       "      <td>0.0</td>\n",
       "      <td>0.0</td>\n",
       "      <td>1.0</td>\n",
       "      <td>0.0</td>\n",
       "      <td>...</td>\n",
       "      <td>4.0</td>\n",
       "      <td>9.0</td>\n",
       "      <td>9.0</td>\n",
       "      <td>2.0</td>\n",
       "      <td>7.0</td>\n",
       "      <td>2.0</td>\n",
       "      <td>6.0</td>\n",
       "      <td>3.0</td>\n",
       "      <td>7.0</td>\n",
       "      <td>https://arresteddevelopment.fandom.com/wiki/Tr...</td>\n",
       "    </tr>\n",
       "    <tr>\n",
       "      <th>2</th>\n",
       "      <td>5.0</td>\n",
       "      <td>0.0</td>\n",
       "      <td>1.0</td>\n",
       "      <td>5.0</td>\n",
       "      <td>5.0</td>\n",
       "      <td>0.0</td>\n",
       "      <td>16.0</td>\n",
       "      <td>1.0</td>\n",
       "      <td>1.0</td>\n",
       "      <td>0.0</td>\n",
       "      <td>...</td>\n",
       "      <td>1.0</td>\n",
       "      <td>8.0</td>\n",
       "      <td>3.0</td>\n",
       "      <td>0.0</td>\n",
       "      <td>4.0</td>\n",
       "      <td>0.0</td>\n",
       "      <td>3.0</td>\n",
       "      <td>8.0</td>\n",
       "      <td>6.0</td>\n",
       "      <td>https://arresteddevelopment.fandom.com/wiki/Tr...</td>\n",
       "    </tr>\n",
       "    <tr>\n",
       "      <th>3</th>\n",
       "      <td>2.0</td>\n",
       "      <td>0.0</td>\n",
       "      <td>0.0</td>\n",
       "      <td>1.0</td>\n",
       "      <td>6.0</td>\n",
       "      <td>0.0</td>\n",
       "      <td>4.0</td>\n",
       "      <td>0.0</td>\n",
       "      <td>0.0</td>\n",
       "      <td>8.0</td>\n",
       "      <td>...</td>\n",
       "      <td>2.0</td>\n",
       "      <td>6.0</td>\n",
       "      <td>0.0</td>\n",
       "      <td>0.0</td>\n",
       "      <td>6.0</td>\n",
       "      <td>0.0</td>\n",
       "      <td>1.0</td>\n",
       "      <td>0.0</td>\n",
       "      <td>0.0</td>\n",
       "      <td>https://arresteddevelopment.fandom.com/wiki/Tr...</td>\n",
       "    </tr>\n",
       "    <tr>\n",
       "      <th>4</th>\n",
       "      <td>0.0</td>\n",
       "      <td>1.0</td>\n",
       "      <td>0.0</td>\n",
       "      <td>1.0</td>\n",
       "      <td>4.0</td>\n",
       "      <td>0.0</td>\n",
       "      <td>7.0</td>\n",
       "      <td>0.0</td>\n",
       "      <td>6.0</td>\n",
       "      <td>2.0</td>\n",
       "      <td>...</td>\n",
       "      <td>0.0</td>\n",
       "      <td>9.0</td>\n",
       "      <td>0.0</td>\n",
       "      <td>0.0</td>\n",
       "      <td>6.0</td>\n",
       "      <td>0.0</td>\n",
       "      <td>0.0</td>\n",
       "      <td>0.0</td>\n",
       "      <td>0.0</td>\n",
       "      <td>https://arresteddevelopment.fandom.com/wiki/Tr...</td>\n",
       "    </tr>\n",
       "  </tbody>\n",
       "</table>\n",
       "<p>5 rows × 37 columns</p>\n",
       "</div>"
      ],
      "text/plain": [
       "   ['Buster', 'G.O.B.']  ['Buster', 'George Michael']  ['Buster', 'George']  \\\n",
       "0                   8.0                           4.0                   2.0   \n",
       "1                   0.0                           0.0                   0.0   \n",
       "2                   5.0                           0.0                   1.0   \n",
       "3                   2.0                           0.0                   0.0   \n",
       "4                   0.0                           1.0                   0.0   \n",
       "\n",
       "   ['Buster', 'Lindsay']  ['Buster', 'Lucille']  ['Buster', 'Maeby']  \\\n",
       "0                    7.0                    9.0                  2.0   \n",
       "1                    0.0                    0.0                  0.0   \n",
       "2                    5.0                    5.0                  0.0   \n",
       "3                    1.0                    6.0                  0.0   \n",
       "4                    1.0                    4.0                  0.0   \n",
       "\n",
       "   ['Buster', 'Michael']  ['Buster', 'Tobias']  ['G.O.B.', 'George Michael']  \\\n",
       "0                    8.0                   6.0                           7.0   \n",
       "1                    0.0                   0.0                           1.0   \n",
       "2                   16.0                   1.0                           1.0   \n",
       "3                    4.0                   0.0                           0.0   \n",
       "4                    7.0                   0.0                           6.0   \n",
       "\n",
       "   ['G.O.B.', 'George']  ...  ['Lindsay', 'Maeby']  ['Lindsay', 'Michael']  \\\n",
       "0                   2.0  ...                   5.0                    15.0   \n",
       "1                   0.0  ...                   4.0                     9.0   \n",
       "2                   0.0  ...                   1.0                     8.0   \n",
       "3                   8.0  ...                   2.0                     6.0   \n",
       "4                   2.0  ...                   0.0                     9.0   \n",
       "\n",
       "   ['Lindsay', 'Tobias']  ['Lucille', 'Maeby']  ['Lucille', 'Michael']  \\\n",
       "0                   13.0                   4.0                    14.0   \n",
       "1                    9.0                   2.0                     7.0   \n",
       "2                    3.0                   0.0                     4.0   \n",
       "3                    0.0                   0.0                     6.0   \n",
       "4                    0.0                   0.0                     6.0   \n",
       "\n",
       "   ['Lucille', 'Tobias']  ['Maeby', 'Michael']  ['Maeby', 'Tobias']  \\\n",
       "0                   10.0                   2.0                  2.0   \n",
       "1                    2.0                   6.0                  3.0   \n",
       "2                    0.0                   3.0                  8.0   \n",
       "3                    0.0                   1.0                  0.0   \n",
       "4                    0.0                   0.0                  0.0   \n",
       "\n",
       "   ['Michael', 'Tobias']                                            episode  \n",
       "0                   11.0  https://arresteddevelopment.fandom.com/wiki/Tr...  \n",
       "1                    7.0  https://arresteddevelopment.fandom.com/wiki/Tr...  \n",
       "2                    6.0  https://arresteddevelopment.fandom.com/wiki/Tr...  \n",
       "3                    0.0  https://arresteddevelopment.fandom.com/wiki/Tr...  \n",
       "4                    0.0  https://arresteddevelopment.fandom.com/wiki/Tr...  \n",
       "\n",
       "[5 rows x 37 columns]"
      ]
     },
     "execution_count": 10,
     "metadata": {},
     "output_type": "execute_result"
    }
   ],
   "source": [
    "pairsAllEpisodes.head()"
   ]
  },
  {
   "cell_type": "code",
   "execution_count": 11,
   "metadata": {},
   "outputs": [],
   "source": [
    "pairsAllEpisodes.to_csv(\"C:\\\\Users\\\\glol7001\\\\Documents\\\\ArrestedDevelopmentPairs.csv\", index=False)"
   ]
  },
  {
   "cell_type": "markdown",
   "metadata": {},
   "source": [
    "## Scrape ratings from IMDb"
   ]
  },
  {
   "cell_type": "code",
   "execution_count": 12,
   "metadata": {},
   "outputs": [],
   "source": [
    "html = requests.get(\"https://www.imdb.com/title/tt0367279/episodes?season=1\")\n",
    "html = html.text\n",
    "bs = BeautifulSoup(html, \"lxml\")\n",
    "episodes1 = bs.find(\"div\", {'class':'list detail eplist'}).findAll('div',{'class':'info'})\n",
    "\n",
    "html = requests.get(\"https://www.imdb.com/title/tt0367279/episodes?season=2\")\n",
    "html = html.text\n",
    "bs = BeautifulSoup(html, \"lxml\")\n",
    "episodes2 = bs.find(\"div\", {'class':'list detail eplist'}).findAll('div',{'class':'info'})\n",
    "\n",
    "html = requests.get(\"https://www.imdb.com/title/tt0367279/episodes?season=3\")\n",
    "html = html.text\n",
    "bs = BeautifulSoup(html, \"lxml\")\n",
    "episodes3 = bs.find(\"div\", {'class':'list detail eplist'}).findAll('div',{'class':'info'})\n",
    "\n",
    "html = requests.get(\"https://www.imdb.com/title/tt0367279/episodes?season=4\")\n",
    "html = html.text\n",
    "bs = BeautifulSoup(html, \"lxml\")\n",
    "episodes4 = bs.find(\"div\", {'class':'list detail eplist'}).findAll('div',{'class':'info'})\n",
    "\n",
    "episodes = episodes1 + episodes2 + episodes3 + episodes4"
   ]
  },
  {
   "cell_type": "code",
   "execution_count": 13,
   "metadata": {},
   "outputs": [],
   "source": [
    "title = []\n",
    "rating = []\n",
    "numVotes = []\n",
    "\n",
    "for episode in episodes:\n",
    "    title.append(episode.find('a',{'itemprop':'name'}).text)\n",
    "    rating.append(episode.find('span', {'class':'ipl-rating-star__rating'}).text)\n",
    "    numVotes.append(episode.find('span', {'class':'ipl-rating-star__total-votes'}).text.strip(\"()\"))\n",
    "    \n",
    "ratingData = pd.DataFrame({'title':title,'rating':rating,'numVotes':numVotes})"
   ]
  },
  {
   "cell_type": "markdown",
   "metadata": {},
   "source": [
    "## Merge dataframes"
   ]
  },
  {
   "cell_type": "code",
   "execution_count": 14,
   "metadata": {},
   "outputs": [],
   "source": [
    "pairsAllEpisodes = pairsAllEpisodes.reset_index()\n",
    "ratingData = ratingData.reset_index()\n",
    "\n",
    "df = pd.merge(left=pairsAllEpisodes, right=ratingData, on='index')\n",
    "del df['index']"
   ]
  },
  {
   "cell_type": "markdown",
   "metadata": {},
   "source": [
    "## Rename columns to something cleaner, for convenience in Javascript"
   ]
  },
  {
   "cell_type": "code",
   "execution_count": 15,
   "metadata": {},
   "outputs": [],
   "source": [
    "newColumns = list(df.columns)\n",
    "\n",
    "for index in range(0,len(newColumns)):\n",
    "    newColumns[index] = newColumns[index].strip(\"['']\").replace(\"', '\",\"+\").replace(\" \",\"_\")\n",
    "    \n",
    "df.columns = newColumns"
   ]
  },
  {
   "cell_type": "code",
   "execution_count": 16,
   "metadata": {},
   "outputs": [
    {
     "data": {
      "text/html": [
       "<div>\n",
       "<style scoped>\n",
       "    .dataframe tbody tr th:only-of-type {\n",
       "        vertical-align: middle;\n",
       "    }\n",
       "\n",
       "    .dataframe tbody tr th {\n",
       "        vertical-align: top;\n",
       "    }\n",
       "\n",
       "    .dataframe thead th {\n",
       "        text-align: right;\n",
       "    }\n",
       "</style>\n",
       "<table border=\"1\" class=\"dataframe\">\n",
       "  <thead>\n",
       "    <tr style=\"text-align: right;\">\n",
       "      <th></th>\n",
       "      <th>Buster+G.O.B.</th>\n",
       "      <th>Buster+George_Michael</th>\n",
       "      <th>Buster+George</th>\n",
       "      <th>Buster+Lindsay</th>\n",
       "      <th>Buster+Lucille</th>\n",
       "      <th>Buster+Maeby</th>\n",
       "      <th>Buster+Michael</th>\n",
       "      <th>Buster+Tobias</th>\n",
       "      <th>G.O.B.+George_Michael</th>\n",
       "      <th>G.O.B.+George</th>\n",
       "      <th>...</th>\n",
       "      <th>Lucille+Maeby</th>\n",
       "      <th>Lucille+Michael</th>\n",
       "      <th>Lucille+Tobias</th>\n",
       "      <th>Maeby+Michael</th>\n",
       "      <th>Maeby+Tobias</th>\n",
       "      <th>Michael+Tobias</th>\n",
       "      <th>episode</th>\n",
       "      <th>title</th>\n",
       "      <th>rating</th>\n",
       "      <th>numVotes</th>\n",
       "    </tr>\n",
       "  </thead>\n",
       "  <tbody>\n",
       "    <tr>\n",
       "      <th>0</th>\n",
       "      <td>8.0</td>\n",
       "      <td>4.0</td>\n",
       "      <td>2.0</td>\n",
       "      <td>7.0</td>\n",
       "      <td>9.0</td>\n",
       "      <td>2.0</td>\n",
       "      <td>8.0</td>\n",
       "      <td>6.0</td>\n",
       "      <td>7.0</td>\n",
       "      <td>2.0</td>\n",
       "      <td>...</td>\n",
       "      <td>4.0</td>\n",
       "      <td>14.0</td>\n",
       "      <td>10.0</td>\n",
       "      <td>2.0</td>\n",
       "      <td>2.0</td>\n",
       "      <td>11.0</td>\n",
       "      <td>https://arresteddevelopment.fandom.com/wiki/Tr...</td>\n",
       "      <td>Pilot</td>\n",
       "      <td>8.2</td>\n",
       "      <td>2,805</td>\n",
       "    </tr>\n",
       "  </tbody>\n",
       "</table>\n",
       "<p>1 rows × 40 columns</p>\n",
       "</div>"
      ],
      "text/plain": [
       "   Buster+G.O.B.  Buster+George_Michael  Buster+George  Buster+Lindsay  \\\n",
       "0            8.0                    4.0            2.0             7.0   \n",
       "\n",
       "   Buster+Lucille  Buster+Maeby  Buster+Michael  Buster+Tobias  \\\n",
       "0             9.0           2.0             8.0            6.0   \n",
       "\n",
       "   G.O.B.+George_Michael  G.O.B.+George  ...  Lucille+Maeby  Lucille+Michael  \\\n",
       "0                    7.0            2.0  ...            4.0             14.0   \n",
       "\n",
       "   Lucille+Tobias  Maeby+Michael  Maeby+Tobias  Michael+Tobias  \\\n",
       "0            10.0            2.0           2.0            11.0   \n",
       "\n",
       "                                             episode  title  rating  numVotes  \n",
       "0  https://arresteddevelopment.fandom.com/wiki/Tr...  Pilot     8.2     2,805  \n",
       "\n",
       "[1 rows x 40 columns]"
      ]
     },
     "execution_count": 16,
     "metadata": {},
     "output_type": "execute_result"
    }
   ],
   "source": [
    "df.head(1)"
   ]
  },
  {
   "cell_type": "code",
   "execution_count": 17,
   "metadata": {},
   "outputs": [],
   "source": [
    "df.to_csv(\"C:\\\\Users\\\\glol7001\\\\Documents\\\\ArrestedDevelopmentPairsAndRatingData.csv\", index=False)"
   ]
  },
  {
   "cell_type": "markdown",
   "metadata": {},
   "source": [
    "## Convert to json format for easier graphing"
   ]
  },
  {
   "cell_type": "code",
   "execution_count": 18,
   "metadata": {},
   "outputs": [],
   "source": [
    "mainCharacters.sort() # alphabetize "
   ]
  },
  {
   "cell_type": "code",
   "execution_count": 19,
   "metadata": {},
   "outputs": [
    {
     "data": {
      "text/plain": [
       "['Buster',\n",
       " 'G.O.B.',\n",
       " 'George',\n",
       " 'George Michael',\n",
       " 'Lindsay',\n",
       " 'Lucille',\n",
       " 'Maeby',\n",
       " 'Michael',\n",
       " 'Tobias']"
      ]
     },
     "execution_count": 19,
     "metadata": {},
     "output_type": "execute_result"
    }
   ],
   "source": [
    "mainCharacters"
   ]
  },
  {
   "cell_type": "code",
   "execution_count": 20,
   "metadata": {},
   "outputs": [],
   "source": [
    "# set up nodes element of json\n",
    "# also define dictionary for next step\n",
    "nodes = []\n",
    "nameIDdict = {}\n",
    "\n",
    "for num in range(0,len(mainCharacters)):\n",
    "    nodes.append({\"id\":num, \"name\": mainCharacters[num]})\n",
    "    nameIDdict[mainCharacters[num].replace(\" \", \"_\")] = num\n",
    "    \n",
    "# sum all episodes for cumulative values\n",
    "totalValues = df[:-4].sum().reset_index()\n",
    "totalValues = totalValues[:-4]\n",
    "totalValues.columns = ['pair', 'numScenes']\n",
    "\n",
    "# set up links element of json\n",
    "links = []\n",
    "\n",
    "for row in range(0,len(totalValues)):\n",
    "    try:\n",
    "        source = nameIDdict[totalValues['pair'][row].split(\"+\")[0]]\n",
    "        target = nameIDdict[totalValues['pair'][row].split(\"+\")[1]]\n",
    "        value = totalValues['numScenes'][row]\n",
    "        links.append({\"source\":source, \"target\":target, \"value\":value})\n",
    "    except:\n",
    "        continue"
   ]
  },
  {
   "cell_type": "code",
   "execution_count": 21,
   "metadata": {},
   "outputs": [
    {
     "name": "stdout",
     "output_type": "stream",
     "text": [
      "[{\"id\": 0, \"name\": \"Buster\"}, {\"id\": 1, \"name\": \"G.O.B.\"}, {\"id\": 2, \"name\": \"George\"}, {\"id\": 3, \"name\": \"George Michael\"}, {\"id\": 4, \"name\": \"Lindsay\"}, {\"id\": 5, \"name\": \"Lucille\"}, {\"id\": 6, \"name\": \"Maeby\"}, {\"id\": 7, \"name\": \"Michael\"}, {\"id\": 8, \"name\": \"Tobias\"}]\n",
      "\n",
      "[{\"source\": 0, \"target\": 1, \"value\": 103.0}, {\"source\": 0, \"target\": 3, \"value\": 42.0}, {\"source\": 0, \"target\": 2, \"value\": 46.0}, {\"source\": 0, \"target\": 4, \"value\": 65.0}, {\"source\": 0, \"target\": 5, \"value\": 123.0}, {\"source\": 0, \"target\": 6, \"value\": 23.0}, {\"source\": 0, \"target\": 7, \"value\": 135.0}, {\"source\": 0, \"target\": 8, \"value\": 51.0}, {\"source\": 1, \"target\": 3, \"value\": 88.0}, {\"source\": 1, \"target\": 2, \"value\": 71.0}, {\"source\": 1, \"target\": 4, \"value\": 105.0}, {\"source\": 1, \"target\": 5, \"value\": 115.0}, {\"source\": 1, \"target\": 6, \"value\": 45.0}, {\"source\": 1, \"target\": 7, \"value\": 301.0}, {\"source\": 1, \"target\": 8, \"value\": 87.0}, {\"source\": 3, \"target\": 4, \"value\": 90.0}, {\"source\": 3, \"target\": 5, \"value\": 40.0}, {\"source\": 3, \"target\": 6, \"value\": 138.0}, {\"source\": 3, \"target\": 7, \"value\": 210.0}, {\"source\": 3, \"target\": 8, \"value\": 69.0}, {\"source\": 2, \"target\": 3, \"value\": 31.0}, {\"source\": 2, \"target\": 4, \"value\": 45.0}, {\"source\": 2, \"target\": 5, \"value\": 91.0}, {\"source\": 2, \"target\": 6, \"value\": 21.0}, {\"source\": 2, \"target\": 7, \"value\": 154.0}, {\"source\": 2, \"target\": 8, \"value\": 32.0}, {\"source\": 4, \"target\": 5, \"value\": 115.0}, {\"source\": 4, \"target\": 6, \"value\": 100.0}, {\"source\": 4, \"target\": 7, \"value\": 256.0}, {\"source\": 4, \"target\": 8, \"value\": 144.0}, {\"source\": 5, \"target\": 6, \"value\": 35.0}, {\"source\": 5, \"target\": 7, \"value\": 255.0}, {\"source\": 5, \"target\": 8, \"value\": 74.0}, {\"source\": 6, \"target\": 7, \"value\": 118.0}, {\"source\": 6, \"target\": 8, \"value\": 66.0}, {\"source\": 7, \"target\": 8, \"value\": 133.0}]\n"
     ]
    }
   ],
   "source": [
    "# json.dumps() wraps strings in double quotes, which json syntax requires\n",
    "print(json.dumps(nodes))\n",
    "print(\"\")\n",
    "print(json.dumps(links))"
   ]
  },
  {
   "cell_type": "markdown",
   "metadata": {},
   "source": [
    "## json that tracks totals over each episode, for animated version"
   ]
  },
  {
   "cell_type": "code",
   "execution_count": 23,
   "metadata": {},
   "outputs": [],
   "source": [
    "dfRunningTotals = df.copy()\n",
    "\n",
    "del dfRunningTotals['episode']\n",
    "del dfRunningTotals['rating']\n",
    "del dfRunningTotals['numVotes']\n",
    "\n",
    "columns = dfRunningTotals.columns[:-1]"
   ]
  },
  {
   "cell_type": "code",
   "execution_count": null,
   "metadata": {},
   "outputs": [],
   "source": [
    "# replace each value with the pair's cumulative number of scenes up to that episode\n",
    "\n",
    "for column in columns:\n",
    "    runningTotal = 0\n",
    "    \n",
    "    for row in range(0,len(dfRunningTotals)):\n",
    "        runningTotal = runningTotal + dfRunningTotals[column][row]\n",
    "        dfRunningTotals[column][row] = runningTotal"
   ]
  },
  {
   "cell_type": "code",
   "execution_count": 55,
   "metadata": {},
   "outputs": [],
   "source": [
    "# set up links element of json\n",
    "links = []\n",
    "\n",
    "for column in columns:\n",
    "    try:\n",
    "        source = nameIDdict[column.split(\"+\")[0]]\n",
    "        target = nameIDdict[column.split(\"+\")[1]]\n",
    "        linkDictionary = {\"source\":source, \"target\":target}\n",
    "        \n",
    "        for row in range(0,len(dfRunningTotals)):\n",
    "            linkDictionary['episode'+str(row)] = dfRunningTotals[column][row]\n",
    "\n",
    "        links.append(linkDictionary)\n",
    "    except:\n",
    "        continue"
   ]
  },
  {
   "cell_type": "code",
   "execution_count": 64,
   "metadata": {},
   "outputs": [
    {
     "name": "stdout",
     "output_type": "stream",
     "text": [
      "[{\"source\": 0, \"target\": 1, \"episode0\": 8.0, \"episode1\": 8.0, \"episode2\": 13.0, \"episode3\": 15.0, \"episode4\": 15.0, \"episode5\": 15.0, \"episode6\": 15.0, \"episode7\": 16.0, \"episode8\": 18.0, \"episode9\": 19.0, \"episode10\": 21.0, \"episode11\": 25.0, \"episode12\": 27.0, \"episode13\": 27.0, \"episode14\": 33.0, \"episode15\": 33.0, \"episode16\": 34.0, \"episode17\": 34.0, \"episode18\": 40.0, \"episode19\": 40.0, \"episode20\": 40.0, \"episode21\": 43.0, \"episode22\": 47.0, \"episode23\": 50.0, \"episode24\": 54.0, \"episode25\": 60.0, \"episode26\": 64.0, \"episode27\": 67.0, \"episode28\": 67.0, \"episode29\": 67.0, \"episode30\": 67.0, \"episode31\": 67.0, \"episode32\": 69.0, \"episode33\": 69.0, \"episode34\": 69.0, \"episode35\": 69.0, \"episode36\": 83.0, \"episode37\": 83.0, \"episode38\": 83.0, \"episode39\": 83.0, \"episode40\": 83.0, \"episode41\": 83.0, \"episode42\": 91.0, \"episode43\": 91.0, \"episode44\": 91.0, \"episode45\": 91.0, \"episode46\": 98.0, \"episode47\": 98.0, \"episode48\": 100.0, \"episode49\": 100.0, \"episode50\": 100.0, \"episode51\": 100.0, \"episode52\": 100.0, \"episode53\": 100.0, \"episode54\": 101.0, \"episode55\": 101.0, \"episode56\": 101.0, \"episode57\": 101.0, \"episode58\": 101.0, \"episode59\": 102.0, \"episode60\": 102.0, \"episode61\": 102.0, \"episode62\": 103.0, \"episode63\": 103.0, \"episode64\": 103.0, \"episode65\": 103.0, \"episode66\": 103.0, \"episode67\": 103.0}, {\"source\": 0, \"target\": 3, \"episode0\": 4.0, \"episode1\": 4.0, \"episode2\": 4.0, \"episode3\": 4.0, \"episode4\": 5.0, \"episode5\": 5.0, \"episode6\": 7.0, \"episode7\": 8.0, \"episode8\": 9.0, \"episode9\": 11.0, \"episode10\": 13.0, \"episode11\": 14.0, \"episode12\": 16.0, \"episode13\": 18.0, \"episode14\": 19.0, \"episode15\": 19.0, \"episode16\": 19.0, \"episode17\": 19.0, \"episode18\": 21.0, \"episode19\": 21.0, \"episode20\": 21.0, \"episode21\": 21.0, \"episode22\": 25.0, \"episode23\": 27.0, \"episode24\": 31.0, \"episode25\": 34.0, \"episode26\": 34.0, \"episode27\": 36.0, \"episode28\": 36.0, \"episode29\": 36.0, \"episode30\": 36.0, \"episode31\": 36.0, \"episode32\": 36.0, \"episode33\": 36.0, \"episode34\": 36.0, \"episode35\": 36.0, \"episode36\": 36.0, \"episode37\": 36.0, \"episode38\": 36.0, \"episode39\": 36.0, \"episode40\": 36.0, \"episode41\": 36.0, \"episode42\": 36.0, \"episode43\": 36.0, \"episode44\": 36.0, \"episode45\": 36.0, \"episode46\": 41.0, \"episode47\": 41.0, \"episode48\": 41.0, \"episode49\": 41.0, \"episode50\": 41.0, \"episode51\": 41.0, \"episode52\": 41.0, \"episode53\": 42.0, \"episode54\": 42.0, \"episode55\": 42.0, \"episode56\": 42.0, \"episode57\": 42.0, \"episode58\": 42.0, \"episode59\": 42.0, \"episode60\": 42.0, \"episode61\": 42.0, \"episode62\": 42.0, \"episode63\": 42.0, \"episode64\": 42.0, \"episode65\": 42.0, \"episode66\": 46.0, \"episode67\": 46.0}, {\"source\": 0, \"target\": 2, \"episode0\": 2.0, \"episode1\": 2.0, \"episode2\": 3.0, \"episode3\": 3.0, \"episode4\": 3.0, \"episode5\": 3.0, \"episode6\": 3.0, \"episode7\": 3.0, \"episode8\": 5.0, \"episode9\": 5.0, \"episode10\": 7.0, \"episode11\": 8.0, \"episode12\": 10.0, \"episode13\": 10.0, \"episode14\": 10.0, \"episode15\": 10.0, \"episode16\": 13.0, \"episode17\": 13.0, \"episode18\": 14.0, \"episode19\": 14.0, \"episode20\": 16.0, \"episode21\": 16.0, \"episode22\": 18.0, \"episode23\": 18.0, \"episode24\": 18.0, \"episode25\": 21.0, \"episode26\": 21.0, \"episode27\": 21.0, \"episode28\": 21.0, \"episode29\": 21.0, \"episode30\": 21.0, \"episode31\": 21.0, \"episode32\": 23.0, \"episode33\": 23.0, \"episode34\": 23.0, \"episode35\": 23.0, \"episode36\": 23.0, \"episode37\": 23.0, \"episode38\": 23.0, \"episode39\": 23.0, \"episode40\": 23.0, \"episode41\": 23.0, \"episode42\": 29.0, \"episode43\": 29.0, \"episode44\": 29.0, \"episode45\": 29.0, \"episode46\": 33.0, \"episode47\": 33.0, \"episode48\": 35.0, \"episode49\": 35.0, \"episode50\": 35.0, \"episode51\": 35.0, \"episode52\": 35.0, \"episode53\": 37.0, \"episode54\": 39.0, \"episode55\": 39.0, \"episode56\": 39.0, \"episode57\": 40.0, \"episode58\": 42.0, \"episode59\": 42.0, \"episode60\": 42.0, \"episode61\": 42.0, \"episode62\": 46.0, \"episode63\": 46.0, \"episode64\": 46.0, \"episode65\": 46.0, \"episode66\": 46.0, \"episode67\": 46.0}, {\"source\": 0, \"target\": 4, \"episode0\": 7.0, \"episode1\": 7.0, \"episode2\": 12.0, \"episode3\": 13.0, \"episode4\": 14.0, \"episode5\": 14.0, \"episode6\": 18.0, \"episode7\": 19.0, \"episode8\": 19.0, \"episode9\": 21.0, \"episode10\": 23.0, \"episode11\": 25.0, \"episode12\": 27.0, \"episode13\": 27.0, \"episode14\": 31.0, \"episode15\": 31.0, \"episode16\": 31.0, \"episode17\": 31.0, \"episode18\": 32.0, \"episode19\": 32.0, \"episode20\": 32.0, \"episode21\": 35.0, \"episode22\": 37.0, \"episode23\": 37.0, \"episode24\": 40.0, \"episode25\": 44.0, \"episode26\": 44.0, \"episode27\": 45.0, \"episode28\": 45.0, \"episode29\": 45.0, \"episode30\": 45.0, \"episode31\": 45.0, \"episode32\": 48.0, \"episode33\": 48.0, \"episode34\": 48.0, \"episode35\": 48.0, \"episode36\": 48.0, \"episode37\": 48.0, \"episode38\": 48.0, \"episode39\": 48.0, \"episode40\": 48.0, \"episode41\": 48.0, \"episode42\": 55.0, \"episode43\": 55.0, \"episode44\": 55.0, \"episode45\": 55.0, \"episode46\": 60.0, \"episode47\": 60.0, \"episode48\": 62.0, \"episode49\": 62.0, \"episode50\": 62.0, \"episode51\": 62.0, \"episode52\": 62.0, \"episode53\": 62.0, \"episode54\": 62.0, \"episode55\": 64.0, \"episode56\": 64.0, \"episode57\": 65.0, \"episode58\": 65.0, \"episode59\": 65.0, \"episode60\": 65.0, \"episode61\": 65.0, \"episode62\": 65.0, \"episode63\": 65.0, \"episode64\": 65.0, \"episode65\": 65.0, \"episode66\": 65.0, \"episode67\": 65.0}, {\"source\": 0, \"target\": 5, \"episode0\": 9.0, \"episode1\": 9.0, \"episode2\": 14.0, \"episode3\": 20.0, \"episode4\": 24.0, \"episode5\": 24.0, \"episode6\": 28.0, \"episode7\": 31.0, \"episode8\": 38.0, \"episode9\": 40.0, \"episode10\": 42.0, \"episode11\": 48.0, \"episode12\": 50.0, \"episode13\": 52.0, \"episode14\": 55.0, \"episode15\": 55.0, \"episode16\": 57.0, \"episode17\": 57.0, \"episode18\": 61.0, \"episode19\": 61.0, \"episode20\": 65.0, \"episode21\": 67.0, \"episode22\": 75.0, \"episode23\": 81.0, \"episode24\": 85.0, \"episode25\": 88.0, \"episode26\": 88.0, \"episode27\": 91.0, \"episode28\": 91.0, \"episode29\": 91.0, \"episode30\": 91.0, \"episode31\": 91.0, \"episode32\": 95.0, \"episode33\": 95.0, \"episode34\": 95.0, \"episode35\": 95.0, \"episode36\": 95.0, \"episode37\": 95.0, \"episode38\": 95.0, \"episode39\": 95.0, \"episode40\": 95.0, \"episode41\": 95.0, \"episode42\": 107.0, \"episode43\": 107.0, \"episode44\": 107.0, \"episode45\": 107.0, \"episode46\": 111.0, \"episode47\": 111.0, \"episode48\": 113.0, \"episode49\": 113.0, \"episode50\": 113.0, \"episode51\": 113.0, \"episode52\": 113.0, \"episode53\": 115.0, \"episode54\": 117.0, \"episode55\": 117.0, \"episode56\": 117.0, \"episode57\": 118.0, \"episode58\": 118.0, \"episode59\": 118.0, \"episode60\": 118.0, \"episode61\": 119.0, \"episode62\": 123.0, \"episode63\": 123.0, \"episode64\": 123.0, \"episode65\": 123.0, \"episode66\": 136.0, \"episode67\": 136.0}, {\"source\": 0, \"target\": 6, \"episode0\": 2.0, \"episode1\": 2.0, \"episode2\": 2.0, \"episode3\": 2.0, \"episode4\": 2.0, \"episode5\": 2.0, \"episode6\": 2.0, \"episode7\": 3.0, \"episode8\": 3.0, \"episode9\": 5.0, \"episode10\": 7.0, \"episode11\": 7.0, \"episode12\": 9.0, \"episode13\": 11.0, \"episode14\": 11.0, \"episode15\": 11.0, \"episode16\": 11.0, \"episode17\": 11.0, \"episode18\": 12.0, \"episode19\": 12.0, \"episode20\": 12.0, \"episode21\": 12.0, \"episode22\": 15.0, \"episode23\": 15.0, \"episode24\": 17.0, \"episode25\": 21.0, \"episode26\": 21.0, \"episode27\": 21.0, \"episode28\": 21.0, \"episode29\": 21.0, \"episode30\": 21.0, \"episode31\": 21.0, \"episode32\": 21.0, \"episode33\": 21.0, \"episode34\": 21.0, \"episode35\": 21.0, \"episode36\": 21.0, \"episode37\": 21.0, \"episode38\": 21.0, \"episode39\": 21.0, \"episode40\": 21.0, \"episode41\": 21.0, \"episode42\": 22.0, \"episode43\": 22.0, \"episode44\": 22.0, \"episode45\": 22.0, \"episode46\": 23.0, \"episode47\": 23.0, \"episode48\": 23.0, \"episode49\": 23.0, \"episode50\": 23.0, \"episode51\": 23.0, \"episode52\": 23.0, \"episode53\": 23.0, \"episode54\": 23.0, \"episode55\": 23.0, \"episode56\": 23.0, \"episode57\": 23.0, \"episode58\": 23.0, \"episode59\": 23.0, \"episode60\": 23.0, \"episode61\": 23.0, \"episode62\": 23.0, \"episode63\": 23.0, \"episode64\": 23.0, \"episode65\": 23.0, \"episode66\": 25.0, \"episode67\": 25.0}, {\"source\": 0, \"target\": 7, \"episode0\": 8.0, \"episode1\": 8.0, \"episode2\": 24.0, \"episode3\": 28.0, \"episode4\": 35.0, \"episode5\": 35.0, \"episode6\": 38.0, \"episode7\": 43.0, \"episode8\": 45.0, \"episode9\": 47.0, \"episode10\": 49.0, \"episode11\": 55.0, \"episode12\": 57.0, \"episode13\": 61.0, \"episode14\": 70.0, \"episode15\": 70.0, \"episode16\": 70.0, \"episode17\": 70.0, \"episode18\": 73.0, \"episode19\": 73.0, \"episode20\": 75.0, \"episode21\": 79.0, \"episode22\": 88.0, \"episode23\": 92.0, \"episode24\": 96.0, \"episode25\": 102.0, \"episode26\": 104.0, \"episode27\": 106.0, \"episode28\": 106.0, \"episode29\": 106.0, \"episode30\": 106.0, \"episode31\": 106.0, \"episode32\": 109.0, \"episode33\": 109.0, \"episode34\": 109.0, \"episode35\": 109.0, \"episode36\": 109.0, \"episode37\": 109.0, \"episode38\": 109.0, \"episode39\": 109.0, \"episode40\": 109.0, \"episode41\": 109.0, \"episode42\": 117.0, \"episode43\": 117.0, \"episode44\": 117.0, \"episode45\": 117.0, \"episode46\": 125.0, \"episode47\": 125.0, \"episode48\": 127.0, \"episode49\": 127.0, \"episode50\": 127.0, \"episode51\": 127.0, \"episode52\": 127.0, \"episode53\": 129.0, \"episode54\": 131.0, \"episode55\": 131.0, \"episode56\": 131.0, \"episode57\": 132.0, \"episode58\": 133.0, \"episode59\": 135.0, \"episode60\": 135.0, \"episode61\": 135.0, \"episode62\": 135.0, \"episode63\": 135.0, \"episode64\": 135.0, \"episode65\": 135.0, \"episode66\": 140.0, \"episode67\": 140.0}, {\"source\": 0, \"target\": 8, \"episode0\": 6.0, \"episode1\": 6.0, \"episode2\": 7.0, \"episode3\": 7.0, \"episode4\": 7.0, \"episode5\": 7.0, \"episode6\": 10.0, \"episode7\": 10.0, \"episode8\": 10.0, \"episode9\": 10.0, \"episode10\": 12.0, \"episode11\": 14.0, \"episode12\": 16.0, \"episode13\": 16.0, \"episode14\": 16.0, \"episode15\": 16.0, \"episode16\": 17.0, \"episode17\": 17.0, \"episode18\": 18.0, \"episode19\": 18.0, \"episode20\": 18.0, \"episode21\": 19.0, \"episode22\": 20.0, \"episode23\": 22.0, \"episode24\": 24.0, \"episode25\": 25.0, \"episode26\": 26.0, \"episode27\": 28.0, \"episode28\": 28.0, \"episode29\": 28.0, \"episode30\": 28.0, \"episode31\": 28.0, \"episode32\": 30.0, \"episode33\": 30.0, \"episode34\": 30.0, \"episode35\": 30.0, \"episode36\": 30.0, \"episode37\": 30.0, \"episode38\": 30.0, \"episode39\": 30.0, \"episode40\": 30.0, \"episode41\": 30.0, \"episode42\": 40.0, \"episode43\": 40.0, \"episode44\": 40.0, \"episode45\": 40.0, \"episode46\": 43.0, \"episode47\": 43.0, \"episode48\": 45.0, \"episode49\": 45.0, \"episode50\": 45.0, \"episode51\": 45.0, \"episode52\": 45.0, \"episode53\": 45.0, \"episode54\": 45.0, \"episode55\": 47.0, \"episode56\": 47.0, \"episode57\": 49.0, \"episode58\": 49.0, \"episode59\": 49.0, \"episode60\": 49.0, \"episode61\": 51.0, \"episode62\": 51.0, \"episode63\": 51.0, \"episode64\": 51.0, \"episode65\": 51.0, \"episode66\": 53.0, \"episode67\": 53.0}, {\"source\": 1, \"target\": 3, \"episode0\": 7.0, \"episode1\": 8.0, \"episode2\": 9.0, \"episode3\": 9.0, \"episode4\": 15.0, \"episode5\": 15.0, \"episode6\": 16.0, \"episode7\": 19.0, \"episode8\": 20.0, \"episode9\": 22.0, \"episode10\": 25.0, \"episode11\": 26.0, \"episode12\": 28.0, \"episode13\": 31.0, \"episode14\": 32.0, \"episode15\": 32.0, \"episode16\": 33.0, \"episode17\": 41.0, \"episode18\": 42.0, \"episode19\": 43.0, \"episode20\": 52.0, \"episode21\": 53.0, \"episode22\": 57.0, \"episode23\": 59.0, \"episode24\": 63.0, \"episode25\": 66.0, \"episode26\": 66.0, \"episode27\": 69.0, \"episode28\": 71.0, \"episode29\": 71.0, \"episode30\": 71.0, \"episode31\": 71.0, \"episode32\": 71.0, \"episode33\": 71.0, \"episode34\": 71.0, \"episode35\": 71.0, \"episode36\": 71.0, \"episode37\": 71.0, \"episode38\": 71.0, \"episode39\": 71.0, \"episode40\": 71.0, \"episode41\": 71.0, \"episode42\": 73.0, \"episode43\": 73.0, \"episode44\": 73.0, \"episode45\": 73.0, \"episode46\": 79.0, \"episode47\": 79.0, \"episode48\": 79.0, \"episode49\": 79.0, \"episode50\": 79.0, \"episode51\": 79.0, \"episode52\": 79.0, \"episode53\": 79.0, \"episode54\": 79.0, \"episode55\": 79.0, \"episode56\": 79.0, \"episode57\": 79.0, \"episode58\": 79.0, \"episode59\": 83.0, \"episode60\": 83.0, \"episode61\": 83.0, \"episode62\": 83.0, \"episode63\": 88.0, \"episode64\": 92.0, \"episode65\": 96.0, \"episode66\": 96.0, \"episode67\": 101.0}, {\"source\": 1, \"target\": 2, \"episode0\": 2.0, \"episode1\": 2.0, \"episode2\": 2.0, \"episode3\": 10.0, \"episode4\": 12.0, \"episode5\": 13.0, \"episode6\": 15.0, \"episode7\": 15.0, \"episode8\": 15.0, \"episode9\": 16.0, \"episode10\": 18.0, \"episode11\": 19.0, \"episode12\": 21.0, \"episode13\": 21.0, \"episode14\": 21.0, \"episode15\": 23.0, \"episode16\": 28.0, \"episode17\": 28.0, \"episode18\": 36.0, \"episode19\": 36.0, \"episode20\": 36.0, \"episode21\": 39.0, \"episode22\": 41.0, \"episode23\": 45.0, \"episode24\": 45.0, \"episode25\": 48.0, \"episode26\": 48.0, \"episode27\": 49.0, \"episode28\": 52.0, \"episode29\": 52.0, \"episode30\": 52.0, \"episode31\": 52.0, \"episode32\": 52.0, \"episode33\": 52.0, \"episode34\": 52.0, \"episode35\": 52.0, \"episode36\": 52.0, \"episode37\": 52.0, \"episode38\": 52.0, \"episode39\": 52.0, \"episode40\": 52.0, \"episode41\": 52.0, \"episode42\": 59.0, \"episode43\": 59.0, \"episode44\": 59.0, \"episode45\": 59.0, \"episode46\": 64.0, \"episode47\": 64.0, \"episode48\": 66.0, \"episode49\": 66.0, \"episode50\": 66.0, \"episode51\": 66.0, \"episode52\": 66.0, \"episode53\": 66.0, \"episode54\": 67.0, \"episode55\": 67.0, \"episode56\": 67.0, \"episode57\": 67.0, \"episode58\": 70.0, \"episode59\": 70.0, \"episode60\": 70.0, \"episode61\": 70.0, \"episode62\": 71.0, \"episode63\": 71.0, \"episode64\": 71.0, \"episode65\": 72.0, \"episode66\": 72.0, \"episode67\": 74.0}, {\"source\": 1, \"target\": 4, \"episode0\": 9.0, \"episode1\": 11.0, \"episode2\": 18.0, \"episode3\": 19.0, \"episode4\": 19.0, \"episode5\": 19.0, \"episode6\": 20.0, \"episode7\": 28.0, \"episode8\": 28.0, \"episode9\": 30.0, \"episode10\": 32.0, \"episode11\": 34.0, \"episode12\": 36.0, \"episode13\": 36.0, \"episode14\": 37.0, \"episode15\": 38.0, \"episode16\": 43.0, \"episode17\": 46.0, \"episode18\": 46.0, \"episode19\": 47.0, \"episode20\": 53.0, \"episode21\": 58.0, \"episode22\": 61.0, \"episode23\": 61.0, \"episode24\": 65.0, \"episode25\": 70.0, \"episode26\": 70.0, \"episode27\": 73.0, \"episode28\": 75.0, \"episode29\": 75.0, \"episode30\": 75.0, \"episode31\": 75.0, \"episode32\": 80.0, \"episode33\": 80.0, \"episode34\": 80.0, \"episode35\": 80.0, \"episode36\": 80.0, \"episode37\": 80.0, \"episode38\": 80.0, \"episode39\": 80.0, \"episode40\": 80.0, \"episode41\": 80.0, \"episode42\": 89.0, \"episode43\": 89.0, \"episode44\": 89.0, \"episode45\": 89.0, \"episode46\": 96.0, \"episode47\": 96.0, \"episode48\": 98.0, \"episode49\": 98.0, \"episode50\": 98.0, \"episode51\": 98.0, \"episode52\": 98.0, \"episode53\": 98.0, \"episode54\": 98.0, \"episode55\": 101.0, \"episode56\": 101.0, \"episode57\": 102.0, \"episode58\": 102.0, \"episode59\": 103.0, \"episode60\": 105.0, \"episode61\": 105.0, \"episode62\": 105.0, \"episode63\": 105.0, \"episode64\": 107.0, \"episode65\": 107.0, \"episode66\": 107.0, \"episode67\": 108.0}, {\"source\": 1, \"target\": 5, \"episode0\": 9.0, \"episode1\": 9.0, \"episode2\": 11.0, \"episode3\": 17.0, \"episode4\": 17.0, \"episode5\": 19.0, \"episode6\": 21.0, \"episode7\": 25.0, \"episode8\": 26.0, \"episode9\": 27.0, \"episode10\": 29.0, \"episode11\": 31.0, \"episode12\": 33.0, \"episode13\": 34.0, \"episode14\": 35.0, \"episode15\": 39.0, \"episode16\": 42.0, \"episode17\": 46.0, \"episode18\": 48.0, \"episode19\": 48.0, \"episode20\": 48.0, \"episode21\": 56.0, \"episode22\": 59.0, \"episode23\": 62.0, \"episode24\": 66.0, \"episode25\": 71.0, \"episode26\": 71.0, \"episode27\": 74.0, \"episode28\": 77.0, \"episode29\": 77.0, \"episode30\": 77.0, \"episode31\": 77.0, \"episode32\": 80.0, \"episode33\": 80.0, \"episode34\": 80.0, \"episode35\": 80.0, \"episode36\": 80.0, \"episode37\": 80.0, \"episode38\": 80.0, \"episode39\": 80.0, \"episode40\": 80.0, \"episode41\": 80.0, \"episode42\": 92.0, \"episode43\": 92.0, \"episode44\": 92.0, \"episode45\": 92.0, \"episode46\": 97.0, \"episode47\": 97.0, \"episode48\": 99.0, \"episode49\": 99.0, \"episode50\": 99.0, \"episode51\": 99.0, \"episode52\": 99.0, \"episode53\": 101.0, \"episode54\": 102.0, \"episode55\": 104.0, \"episode56\": 104.0, \"episode57\": 104.0, \"episode58\": 107.0, \"episode59\": 109.0, \"episode60\": 109.0, \"episode61\": 109.0, \"episode62\": 113.0, \"episode63\": 115.0, \"episode64\": 115.0, \"episode65\": 116.0, \"episode66\": 116.0, \"episode67\": 120.0}, {\"source\": 1, \"target\": 6, \"episode0\": 2.0, \"episode1\": 3.0, \"episode2\": 4.0, \"episode3\": 4.0, \"episode4\": 5.0, \"episode5\": 5.0, \"episode6\": 6.0, \"episode7\": 7.0, \"episode8\": 7.0, \"episode9\": 9.0, \"episode10\": 11.0, \"episode11\": 11.0, \"episode12\": 13.0, \"episode13\": 13.0, \"episode14\": 13.0, \"episode15\": 13.0, \"episode16\": 14.0, \"episode17\": 15.0, \"episode18\": 15.0, \"episode19\": 16.0, \"episode20\": 19.0, \"episode21\": 20.0, \"episode22\": 23.0, \"episode23\": 23.0, \"episode24\": 25.0, \"episode25\": 30.0, \"episode26\": 30.0, \"episode27\": 33.0, \"episode28\": 37.0, \"episode29\": 37.0, \"episode30\": 37.0, \"episode31\": 37.0, \"episode32\": 38.0, \"episode33\": 38.0, \"episode34\": 38.0, \"episode35\": 38.0, \"episode36\": 38.0, \"episode37\": 38.0, \"episode38\": 38.0, \"episode39\": 38.0, \"episode40\": 38.0, \"episode41\": 38.0, \"episode42\": 41.0, \"episode43\": 41.0, \"episode44\": 41.0, \"episode45\": 41.0, \"episode46\": 43.0, \"episode47\": 43.0, \"episode48\": 43.0, \"episode49\": 43.0, \"episode50\": 43.0, \"episode51\": 43.0, \"episode52\": 43.0, \"episode53\": 43.0, \"episode54\": 43.0, \"episode55\": 43.0, \"episode56\": 43.0, \"episode57\": 43.0, \"episode58\": 43.0, \"episode59\": 45.0, \"episode60\": 45.0, \"episode61\": 45.0, \"episode62\": 45.0, \"episode63\": 45.0, \"episode64\": 49.0, \"episode65\": 51.0, \"episode66\": 51.0, \"episode67\": 51.0}, {\"source\": 1, \"target\": 7, \"episode0\": 11.0, \"episode1\": 16.0, \"episode2\": 25.0, \"episode3\": 36.0, \"episode4\": 42.0, \"episode5\": 48.0, \"episode6\": 52.0, \"episode7\": 65.0, \"episode8\": 73.0, \"episode9\": 77.0, \"episode10\": 83.0, \"episode11\": 91.0, \"episode12\": 93.0, \"episode13\": 103.0, \"episode14\": 106.0, \"episode15\": 119.0, \"episode16\": 127.0, \"episode17\": 141.0, \"episode18\": 149.0, \"episode19\": 156.0, \"episode20\": 164.0, \"episode21\": 172.0, \"episode22\": 184.0, \"episode23\": 200.0, \"episode24\": 204.0, \"episode25\": 213.0, \"episode26\": 216.0, \"episode27\": 231.0, \"episode28\": 244.0, \"episode29\": 244.0, \"episode30\": 244.0, \"episode31\": 244.0, \"episode32\": 250.0, \"episode33\": 250.0, \"episode34\": 250.0, \"episode35\": 250.0, \"episode36\": 252.0, \"episode37\": 252.0, \"episode38\": 252.0, \"episode39\": 252.0, \"episode40\": 252.0, \"episode41\": 252.0, \"episode42\": 264.0, \"episode43\": 264.0, \"episode44\": 264.0, \"episode45\": 264.0, \"episode46\": 273.0, \"episode47\": 273.0, \"episode48\": 275.0, \"episode49\": 275.0, \"episode50\": 275.0, \"episode51\": 275.0, \"episode52\": 275.0, \"episode53\": 279.0, \"episode54\": 281.0, \"episode55\": 281.0, \"episode56\": 281.0, \"episode57\": 281.0, \"episode58\": 283.0, \"episode59\": 291.0, \"episode60\": 291.0, \"episode61\": 291.0, \"episode62\": 293.0, \"episode63\": 301.0, \"episode64\": 303.0, \"episode65\": 306.0, \"episode66\": 306.0, \"episode67\": 307.0}, {\"source\": 1, \"target\": 8, \"episode0\": 8.0, \"episode1\": 9.0, \"episode2\": 11.0, \"episode3\": 11.0, \"episode4\": 11.0, \"episode5\": 11.0, \"episode6\": 11.0, \"episode7\": 11.0, \"episode8\": 11.0, \"episode9\": 11.0, \"episode10\": 13.0, \"episode11\": 14.0, \"episode12\": 16.0, \"episode13\": 16.0, \"episode14\": 16.0, \"episode15\": 16.0, \"episode16\": 20.0, \"episode17\": 20.0, \"episode18\": 22.0, \"episode19\": 29.0, \"episode20\": 36.0, \"episode21\": 37.0, \"episode22\": 38.0, \"episode23\": 40.0, \"episode24\": 44.0, \"episode25\": 45.0, \"episode26\": 47.0, \"episode27\": 49.0, \"episode28\": 53.0, \"episode29\": 53.0, \"episode30\": 53.0, \"episode31\": 53.0, \"episode32\": 55.0, \"episode33\": 55.0, \"episode34\": 55.0, \"episode35\": 55.0, \"episode36\": 55.0, \"episode37\": 55.0, \"episode38\": 55.0, \"episode39\": 55.0, \"episode40\": 55.0, \"episode41\": 55.0, \"episode42\": 66.0, \"episode43\": 66.0, \"episode44\": 66.0, \"episode45\": 66.0, \"episode46\": 70.0, \"episode47\": 70.0, \"episode48\": 72.0, \"episode49\": 72.0, \"episode50\": 72.0, \"episode51\": 72.0, \"episode52\": 72.0, \"episode53\": 72.0, \"episode54\": 72.0, \"episode55\": 74.0, \"episode56\": 74.0, \"episode57\": 76.0, \"episode58\": 76.0, \"episode59\": 80.0, \"episode60\": 81.0, \"episode61\": 83.0, \"episode62\": 85.0, \"episode63\": 87.0, \"episode64\": 88.0, \"episode65\": 89.0, \"episode66\": 89.0, \"episode67\": 89.0}, {\"source\": 3, \"target\": 4, \"episode0\": 7.0, \"episode1\": 12.0, \"episode2\": 14.0, \"episode3\": 16.0, \"episode4\": 17.0, \"episode5\": 18.0, \"episode6\": 18.0, \"episode7\": 20.0, \"episode8\": 23.0, \"episode9\": 25.0, \"episode10\": 27.0, \"episode11\": 30.0, \"episode12\": 32.0, \"episode13\": 34.0, \"episode14\": 37.0, \"episode15\": 38.0, \"episode16\": 40.0, \"episode17\": 44.0, \"episode18\": 47.0, \"episode19\": 49.0, \"episode20\": 52.0, \"episode21\": 54.0, \"episode22\": 57.0, \"episode23\": 58.0, \"episode24\": 62.0, \"episode25\": 66.0, \"episode26\": 67.0, \"episode27\": 76.0, \"episode28\": 77.0, \"episode29\": 77.0, \"episode30\": 77.0, \"episode31\": 77.0, \"episode32\": 78.0, \"episode33\": 78.0, \"episode34\": 78.0, \"episode35\": 78.0, \"episode36\": 78.0, \"episode37\": 78.0, \"episode38\": 78.0, \"episode39\": 78.0, \"episode40\": 78.0, \"episode41\": 78.0, \"episode42\": 79.0, \"episode43\": 79.0, \"episode44\": 79.0, \"episode45\": 79.0, \"episode46\": 85.0, \"episode47\": 85.0, \"episode48\": 85.0, \"episode49\": 85.0, \"episode50\": 85.0, \"episode51\": 85.0, \"episode52\": 85.0, \"episode53\": 85.0, \"episode54\": 85.0, \"episode55\": 85.0, \"episode56\": 85.0, \"episode57\": 85.0, \"episode58\": 85.0, \"episode59\": 86.0, \"episode60\": 89.0, \"episode61\": 90.0, \"episode62\": 90.0, \"episode63\": 90.0, \"episode64\": 95.0, \"episode65\": 95.0, \"episode66\": 95.0, \"episode67\": 96.0}, {\"source\": 3, \"target\": 5, \"episode0\": 4.0, \"episode1\": 6.0, \"episode2\": 6.0, \"episode3\": 6.0, \"episode4\": 7.0, \"episode5\": 7.0, \"episode6\": 8.0, \"episode7\": 8.0, \"episode8\": 8.0, \"episode9\": 9.0, \"episode10\": 10.0, \"episode11\": 11.0, \"episode12\": 13.0, \"episode13\": 14.0, \"episode14\": 15.0, \"episode15\": 15.0, \"episode16\": 15.0, \"episode17\": 16.0, \"episode18\": 17.0, \"episode19\": 17.0, \"episode20\": 17.0, \"episode21\": 17.0, \"episode22\": 22.0, \"episode23\": 23.0, \"episode24\": 26.0, \"episode25\": 29.0, \"episode26\": 29.0, \"episode27\": 31.0, \"episode28\": 32.0, \"episode29\": 32.0, \"episode30\": 32.0, \"episode31\": 32.0, \"episode32\": 33.0, \"episode33\": 33.0, \"episode34\": 33.0, \"episode35\": 33.0, \"episode36\": 33.0, \"episode37\": 33.0, \"episode38\": 33.0, \"episode39\": 33.0, \"episode40\": 33.0, \"episode41\": 33.0, \"episode42\": 33.0, \"episode43\": 33.0, \"episode44\": 33.0, \"episode45\": 33.0, \"episode46\": 38.0, \"episode47\": 38.0, \"episode48\": 38.0, \"episode49\": 38.0, \"episode50\": 38.0, \"episode51\": 38.0, \"episode52\": 38.0, \"episode53\": 40.0, \"episode54\": 40.0, \"episode55\": 40.0, \"episode56\": 40.0, \"episode57\": 40.0, \"episode58\": 40.0, \"episode59\": 40.0, \"episode60\": 40.0, \"episode61\": 40.0, \"episode62\": 40.0, \"episode63\": 40.0, \"episode64\": 40.0, \"episode65\": 42.0, \"episode66\": 44.0, \"episode67\": 45.0}, {\"source\": 3, \"target\": 6, \"episode0\": 10.0, \"episode1\": 19.0, \"episode2\": 27.0, \"episode3\": 30.0, \"episode4\": 34.0, \"episode5\": 42.0, \"episode6\": 48.0, \"episode7\": 51.0, \"episode8\": 61.0, \"episode9\": 63.0, \"episode10\": 68.0, \"episode11\": 72.0, \"episode12\": 74.0, \"episode13\": 76.0, \"episode14\": 80.0, \"episode15\": 82.0, \"episode16\": 90.0, \"episode17\": 93.0, \"episode18\": 97.0, \"episode19\": 104.0, \"episode20\": 106.0, \"episode21\": 108.0, \"episode22\": 111.0, \"episode23\": 111.0, \"episode24\": 113.0, \"episode25\": 116.0, \"episode26\": 118.0, \"episode27\": 122.0, \"episode28\": 123.0, \"episode29\": 123.0, \"episode30\": 123.0, \"episode31\": 123.0, \"episode32\": 127.0, \"episode33\": 127.0, \"episode34\": 127.0, \"episode35\": 127.0, \"episode36\": 127.0, \"episode37\": 127.0, \"episode38\": 127.0, \"episode39\": 127.0, \"episode40\": 127.0, \"episode41\": 127.0, \"episode42\": 132.0, \"episode43\": 132.0, \"episode44\": 132.0, \"episode45\": 132.0, \"episode46\": 134.0, \"episode47\": 134.0, \"episode48\": 134.0, \"episode49\": 134.0, \"episode50\": 134.0, \"episode51\": 134.0, \"episode52\": 134.0, \"episode53\": 138.0, \"episode54\": 138.0, \"episode55\": 138.0, \"episode56\": 138.0, \"episode57\": 138.0, \"episode58\": 138.0, \"episode59\": 138.0, \"episode60\": 138.0, \"episode61\": 138.0, \"episode62\": 138.0, \"episode63\": 138.0, \"episode64\": 146.0, \"episode65\": 156.0, \"episode66\": 156.0, \"episode67\": 159.0}, {\"source\": 3, \"target\": 7, \"episode0\": 10.0, \"episode1\": 18.0, \"episode2\": 24.0, \"episode3\": 25.0, \"episode4\": 30.0, \"episode5\": 39.0, \"episode6\": 39.0, \"episode7\": 41.0, \"episode8\": 49.0, \"episode9\": 53.0, \"episode10\": 62.0, \"episode11\": 64.0, \"episode12\": 66.0, \"episode13\": 76.0, \"episode14\": 82.0, \"episode15\": 82.0, \"episode16\": 86.0, \"episode17\": 98.0, \"episode18\": 104.0, \"episode19\": 106.0, \"episode20\": 115.0, \"episode21\": 122.0, \"episode22\": 135.0, \"episode23\": 141.0, \"episode24\": 145.0, \"episode25\": 155.0, \"episode26\": 159.0, \"episode27\": 165.0, \"episode28\": 169.0, \"episode29\": 169.0, \"episode30\": 169.0, \"episode31\": 169.0, \"episode32\": 173.0, \"episode33\": 173.0, \"episode34\": 173.0, \"episode35\": 173.0, \"episode36\": 173.0, \"episode37\": 173.0, \"episode38\": 173.0, \"episode39\": 173.0, \"episode40\": 173.0, \"episode41\": 173.0, \"episode42\": 175.0, \"episode43\": 175.0, \"episode44\": 175.0, \"episode45\": 175.0, \"episode46\": 182.0, \"episode47\": 182.0, \"episode48\": 182.0, \"episode49\": 182.0, \"episode50\": 182.0, \"episode51\": 182.0, \"episode52\": 182.0, \"episode53\": 205.0, \"episode54\": 205.0, \"episode55\": 205.0, \"episode56\": 205.0, \"episode57\": 205.0, \"episode58\": 205.0, \"episode59\": 205.0, \"episode60\": 208.0, \"episode61\": 210.0, \"episode62\": 210.0, \"episode63\": 210.0, \"episode64\": 216.0, \"episode65\": 228.0, \"episode66\": 230.0, \"episode67\": 240.0}, {\"source\": 3, \"target\": 8, \"episode0\": 4.0, \"episode1\": 7.0, \"episode2\": 12.0, \"episode3\": 12.0, \"episode4\": 12.0, \"episode5\": 13.0, \"episode6\": 16.0, \"episode7\": 16.0, \"episode8\": 21.0, \"episode9\": 21.0, \"episode10\": 23.0, \"episode11\": 26.0, \"episode12\": 28.0, \"episode13\": 28.0, \"episode14\": 28.0, \"episode15\": 30.0, \"episode16\": 32.0, \"episode17\": 32.0, \"episode18\": 37.0, \"episode19\": 38.0, \"episode20\": 43.0, \"episode21\": 44.0, \"episode22\": 45.0, \"episode23\": 46.0, \"episode24\": 50.0, \"episode25\": 52.0, \"episode26\": 54.0, \"episode27\": 59.0, \"episode28\": 60.0, \"episode29\": 60.0, \"episode30\": 60.0, \"episode31\": 60.0, \"episode32\": 61.0, \"episode33\": 61.0, \"episode34\": 61.0, \"episode35\": 61.0, \"episode36\": 61.0, \"episode37\": 61.0, \"episode38\": 61.0, \"episode39\": 61.0, \"episode40\": 61.0, \"episode41\": 61.0, \"episode42\": 62.0, \"episode43\": 62.0, \"episode44\": 62.0, \"episode45\": 62.0, \"episode46\": 66.0, \"episode47\": 66.0, \"episode48\": 66.0, \"episode49\": 66.0, \"episode50\": 66.0, \"episode51\": 66.0, \"episode52\": 66.0, \"episode53\": 66.0, \"episode54\": 66.0, \"episode55\": 66.0, \"episode56\": 66.0, \"episode57\": 66.0, \"episode58\": 66.0, \"episode59\": 68.0, \"episode60\": 68.0, \"episode61\": 69.0, \"episode62\": 69.0, \"episode63\": 69.0, \"episode64\": 71.0, \"episode65\": 75.0, \"episode66\": 75.0, \"episode67\": 75.0}, {\"source\": 2, \"target\": 3, \"episode0\": 3.0, \"episode1\": 3.0, \"episode2\": 3.0, \"episode3\": 3.0, \"episode4\": 3.0, \"episode5\": 5.0, \"episode6\": 5.0, \"episode7\": 5.0, \"episode8\": 5.0, \"episode9\": 6.0, \"episode10\": 7.0, \"episode11\": 8.0, \"episode12\": 10.0, \"episode13\": 10.0, \"episode14\": 10.0, \"episode15\": 10.0, \"episode16\": 10.0, \"episode17\": 12.0, \"episode18\": 12.0, \"episode19\": 15.0, \"episode20\": 16.0, \"episode21\": 16.0, \"episode22\": 17.0, \"episode23\": 17.0, \"episode24\": 17.0, \"episode25\": 23.0, \"episode26\": 23.0, \"episode27\": 23.0, \"episode28\": 23.0, \"episode29\": 23.0, \"episode30\": 23.0, \"episode31\": 23.0, \"episode32\": 24.0, \"episode33\": 24.0, \"episode34\": 24.0, \"episode35\": 24.0, \"episode36\": 24.0, \"episode37\": 24.0, \"episode38\": 24.0, \"episode39\": 24.0, \"episode40\": 24.0, \"episode41\": 24.0, \"episode42\": 26.0, \"episode43\": 26.0, \"episode44\": 26.0, \"episode45\": 26.0, \"episode46\": 29.0, \"episode47\": 29.0, \"episode48\": 29.0, \"episode49\": 29.0, \"episode50\": 29.0, \"episode51\": 29.0, \"episode52\": 29.0, \"episode53\": 31.0, \"episode54\": 31.0, \"episode55\": 31.0, \"episode56\": 31.0, \"episode57\": 31.0, \"episode58\": 31.0, \"episode59\": 31.0, \"episode60\": 31.0, \"episode61\": 31.0, \"episode62\": 31.0, \"episode63\": 31.0, \"episode64\": 32.0, \"episode65\": 34.0, \"episode66\": 34.0, \"episode67\": 35.0}, {\"source\": 2, \"target\": 4, \"episode0\": 4.0, \"episode1\": 4.0, \"episode2\": 4.0, \"episode3\": 4.0, \"episode4\": 4.0, \"episode5\": 4.0, \"episode6\": 4.0, \"episode7\": 8.0, \"episode8\": 8.0, \"episode9\": 10.0, \"episode10\": 12.0, \"episode11\": 13.0, \"episode12\": 15.0, \"episode13\": 15.0, \"episode14\": 15.0, \"episode15\": 16.0, \"episode16\": 18.0, \"episode17\": 18.0, \"episode18\": 18.0, \"episode19\": 18.0, \"episode20\": 18.0, \"episode21\": 18.0, \"episode22\": 19.0, \"episode23\": 19.0, \"episode24\": 19.0, \"episode25\": 23.0, \"episode26\": 23.0, \"episode27\": 23.0, \"episode28\": 23.0, \"episode29\": 23.0, \"episode30\": 23.0, \"episode31\": 23.0, \"episode32\": 25.0, \"episode33\": 25.0, \"episode34\": 25.0, \"episode35\": 25.0, \"episode36\": 26.0, \"episode37\": 26.0, \"episode38\": 26.0, \"episode39\": 26.0, \"episode40\": 26.0, \"episode41\": 26.0, \"episode42\": 32.0, \"episode43\": 32.0, \"episode44\": 32.0, \"episode45\": 32.0, \"episode46\": 36.0, \"episode47\": 36.0, \"episode48\": 38.0, \"episode49\": 38.0, \"episode50\": 38.0, \"episode51\": 38.0, \"episode52\": 38.0, \"episode53\": 38.0, \"episode54\": 38.0, \"episode55\": 38.0, \"episode56\": 38.0, \"episode57\": 39.0, \"episode58\": 41.0, \"episode59\": 41.0, \"episode60\": 45.0, \"episode61\": 45.0, \"episode62\": 45.0, \"episode63\": 45.0, \"episode64\": 46.0, \"episode65\": 46.0, \"episode66\": 46.0, \"episode67\": 47.0}, {\"source\": 2, \"target\": 5, \"episode0\": 4.0, \"episode1\": 4.0, \"episode2\": 4.0, \"episode3\": 4.0, \"episode4\": 4.0, \"episode5\": 8.0, \"episode6\": 8.0, \"episode7\": 8.0, \"episode8\": 10.0, \"episode9\": 10.0, \"episode10\": 12.0, \"episode11\": 16.0, \"episode12\": 18.0, \"episode13\": 18.0, \"episode14\": 18.0, \"episode15\": 24.0, \"episode16\": 27.0, \"episode17\": 27.0, \"episode18\": 27.0, \"episode19\": 27.0, \"episode20\": 27.0, \"episode21\": 32.0, \"episode22\": 34.0, \"episode23\": 34.0, \"episode24\": 34.0, \"episode25\": 35.0, \"episode26\": 37.0, \"episode27\": 39.0, \"episode28\": 39.0, \"episode29\": 39.0, \"episode30\": 39.0, \"episode31\": 39.0, \"episode32\": 41.0, \"episode33\": 41.0, \"episode34\": 41.0, \"episode35\": 41.0, \"episode36\": 43.0, \"episode37\": 43.0, \"episode38\": 43.0, \"episode39\": 43.0, \"episode40\": 43.0, \"episode41\": 43.0, \"episode42\": 49.0, \"episode43\": 49.0, \"episode44\": 49.0, \"episode45\": 49.0, \"episode46\": 55.0, \"episode47\": 55.0, \"episode48\": 57.0, \"episode49\": 57.0, \"episode50\": 57.0, \"episode51\": 57.0, \"episode52\": 57.0, \"episode53\": 59.0, \"episode54\": 75.0, \"episode55\": 75.0, \"episode56\": 75.0, \"episode57\": 76.0, \"episode58\": 83.0, \"episode59\": 83.0, \"episode60\": 83.0, \"episode61\": 83.0, \"episode62\": 91.0, \"episode63\": 91.0, \"episode64\": 91.0, \"episode65\": 93.0, \"episode66\": 93.0, \"episode67\": 94.0}, {\"source\": 2, \"target\": 6, \"episode0\": 2.0, \"episode1\": 2.0, \"episode2\": 2.0, \"episode3\": 2.0, \"episode4\": 2.0, \"episode5\": 2.0, \"episode6\": 2.0, \"episode7\": 2.0, \"episode8\": 2.0, \"episode9\": 3.0, \"episode10\": 5.0, \"episode11\": 5.0, \"episode12\": 7.0, \"episode13\": 7.0, \"episode14\": 7.0, \"episode15\": 7.0, \"episode16\": 7.0, \"episode17\": 7.0, \"episode18\": 7.0, \"episode19\": 10.0, \"episode20\": 10.0, \"episode21\": 10.0, \"episode22\": 11.0, \"episode23\": 11.0, \"episode24\": 11.0, \"episode25\": 14.0, \"episode26\": 14.0, \"episode27\": 14.0, \"episode28\": 14.0, \"episode29\": 14.0, \"episode30\": 14.0, \"episode31\": 14.0, \"episode32\": 15.0, \"episode33\": 15.0, \"episode34\": 15.0, \"episode35\": 15.0, \"episode36\": 17.0, \"episode37\": 17.0, \"episode38\": 17.0, \"episode39\": 17.0, \"episode40\": 17.0, \"episode41\": 17.0, \"episode42\": 19.0, \"episode43\": 19.0, \"episode44\": 19.0, \"episode45\": 19.0, \"episode46\": 20.0, \"episode47\": 20.0, \"episode48\": 20.0, \"episode49\": 20.0, \"episode50\": 20.0, \"episode51\": 20.0, \"episode52\": 20.0, \"episode53\": 20.0, \"episode54\": 20.0, \"episode55\": 20.0, \"episode56\": 20.0, \"episode57\": 20.0, \"episode58\": 20.0, \"episode59\": 20.0, \"episode60\": 21.0, \"episode61\": 21.0, \"episode62\": 21.0, \"episode63\": 21.0, \"episode64\": 23.0, \"episode65\": 25.0, \"episode66\": 25.0, \"episode67\": 25.0}, {\"source\": 2, \"target\": 7, \"episode0\": 2.0, \"episode1\": 8.0, \"episode2\": 10.0, \"episode3\": 10.0, \"episode4\": 14.0, \"episode5\": 22.0, \"episode6\": 26.0, \"episode7\": 26.0, \"episode8\": 26.0, \"episode9\": 28.0, \"episode10\": 30.0, \"episode11\": 31.0, \"episode12\": 33.0, \"episode13\": 33.0, \"episode14\": 33.0, \"episode15\": 37.0, \"episode16\": 39.0, \"episode17\": 47.0, \"episode18\": 53.0, \"episode19\": 57.0, \"episode20\": 57.0, \"episode21\": 63.0, \"episode22\": 65.0, \"episode23\": 69.0, \"episode24\": 69.0, \"episode25\": 74.0, \"episode26\": 84.0, \"episode27\": 87.0, \"episode28\": 91.0, \"episode29\": 91.0, \"episode30\": 91.0, \"episode31\": 91.0, \"episode32\": 94.0, \"episode33\": 94.0, \"episode34\": 94.0, \"episode35\": 94.0, \"episode36\": 106.0, \"episode37\": 106.0, \"episode38\": 106.0, \"episode39\": 106.0, \"episode40\": 106.0, \"episode41\": 106.0, \"episode42\": 114.0, \"episode43\": 114.0, \"episode44\": 114.0, \"episode45\": 114.0, \"episode46\": 121.0, \"episode47\": 121.0, \"episode48\": 123.0, \"episode49\": 123.0, \"episode50\": 123.0, \"episode51\": 123.0, \"episode52\": 123.0, \"episode53\": 125.0, \"episode54\": 131.0, \"episode55\": 131.0, \"episode56\": 139.0, \"episode57\": 140.0, \"episode58\": 148.0, \"episode59\": 148.0, \"episode60\": 150.0, \"episode61\": 150.0, \"episode62\": 154.0, \"episode63\": 154.0, \"episode64\": 154.0, \"episode65\": 156.0, \"episode66\": 156.0, \"episode67\": 157.0}, {\"source\": 2, \"target\": 8, \"episode0\": 1.0, \"episode1\": 1.0, \"episode2\": 1.0, \"episode3\": 1.0, \"episode4\": 1.0, \"episode5\": 1.0, \"episode6\": 1.0, \"episode7\": 1.0, \"episode8\": 1.0, \"episode9\": 1.0, \"episode10\": 3.0, \"episode11\": 3.0, \"episode12\": 5.0, \"episode13\": 5.0, \"episode14\": 8.0, \"episode15\": 8.0, \"episode16\": 9.0, \"episode17\": 11.0, \"episode18\": 11.0, \"episode19\": 11.0, \"episode20\": 11.0, \"episode21\": 11.0, \"episode22\": 11.0, \"episode23\": 11.0, \"episode24\": 11.0, \"episode25\": 11.0, \"episode26\": 11.0, \"episode27\": 11.0, \"episode28\": 11.0, \"episode29\": 11.0, \"episode30\": 11.0, \"episode31\": 11.0, \"episode32\": 14.0, \"episode33\": 14.0, \"episode34\": 14.0, \"episode35\": 14.0, \"episode36\": 19.0, \"episode37\": 19.0, \"episode38\": 19.0, \"episode39\": 19.0, \"episode40\": 19.0, \"episode41\": 19.0, \"episode42\": 26.0, \"episode43\": 26.0, \"episode44\": 26.0, \"episode45\": 26.0, \"episode46\": 28.0, \"episode47\": 28.0, \"episode48\": 30.0, \"episode49\": 30.0, \"episode50\": 30.0, \"episode51\": 30.0, \"episode52\": 30.0, \"episode53\": 30.0, \"episode54\": 30.0, \"episode55\": 30.0, \"episode56\": 30.0, \"episode57\": 31.0, \"episode58\": 31.0, \"episode59\": 31.0, \"episode60\": 31.0, \"episode61\": 31.0, \"episode62\": 32.0, \"episode63\": 32.0, \"episode64\": 32.0, \"episode65\": 33.0, \"episode66\": 33.0, \"episode67\": 33.0}, {\"source\": 4, \"target\": 5, \"episode0\": 12.0, \"episode1\": 15.0, \"episode2\": 20.0, \"episode3\": 21.0, \"episode4\": 22.0, \"episode5\": 22.0, \"episode6\": 31.0, \"episode7\": 34.0, \"episode8\": 34.0, \"episode9\": 36.0, \"episode10\": 46.0, \"episode11\": 49.0, \"episode12\": 51.0, \"episode13\": 51.0, \"episode14\": 53.0, \"episode15\": 55.0, \"episode16\": 57.0, \"episode17\": 62.0, \"episode18\": 63.0, \"episode19\": 64.0, \"episode20\": 64.0, \"episode21\": 67.0, \"episode22\": 69.0, \"episode23\": 70.0, \"episode24\": 73.0, \"episode25\": 76.0, \"episode26\": 78.0, \"episode27\": 79.0, \"episode28\": 81.0, \"episode29\": 81.0, \"episode30\": 81.0, \"episode31\": 81.0, \"episode32\": 85.0, \"episode33\": 85.0, \"episode34\": 85.0, \"episode35\": 85.0, \"episode36\": 87.0, \"episode37\": 87.0, \"episode38\": 87.0, \"episode39\": 87.0, \"episode40\": 87.0, \"episode41\": 87.0, \"episode42\": 93.0, \"episode43\": 93.0, \"episode44\": 93.0, \"episode45\": 93.0, \"episode46\": 99.0, \"episode47\": 99.0, \"episode48\": 101.0, \"episode49\": 101.0, \"episode50\": 101.0, \"episode51\": 101.0, \"episode52\": 101.0, \"episode53\": 101.0, \"episode54\": 101.0, \"episode55\": 110.0, \"episode56\": 110.0, \"episode57\": 111.0, \"episode58\": 111.0, \"episode59\": 111.0, \"episode60\": 115.0, \"episode61\": 115.0, \"episode62\": 115.0, \"episode63\": 115.0, \"episode64\": 115.0, \"episode65\": 115.0, \"episode66\": 115.0, \"episode67\": 116.0}, {\"source\": 4, \"target\": 6, \"episode0\": 5.0, \"episode1\": 9.0, \"episode2\": 10.0, \"episode3\": 12.0, \"episode4\": 12.0, \"episode5\": 14.0, \"episode6\": 16.0, \"episode7\": 18.0, \"episode8\": 22.0, \"episode9\": 26.0, \"episode10\": 28.0, \"episode11\": 31.0, \"episode12\": 33.0, \"episode13\": 33.0, \"episode14\": 33.0, \"episode15\": 33.0, \"episode16\": 35.0, \"episode17\": 42.0, \"episode18\": 48.0, \"episode19\": 50.0, \"episode20\": 54.0, \"episode21\": 55.0, \"episode22\": 56.0, \"episode23\": 59.0, \"episode24\": 61.0, \"episode25\": 68.0, \"episode26\": 74.0, \"episode27\": 80.0, \"episode28\": 81.0, \"episode29\": 81.0, \"episode30\": 81.0, \"episode31\": 81.0, \"episode32\": 84.0, \"episode33\": 84.0, \"episode34\": 84.0, \"episode35\": 84.0, \"episode36\": 84.0, \"episode37\": 84.0, \"episode38\": 84.0, \"episode39\": 84.0, \"episode40\": 84.0, \"episode41\": 84.0, \"episode42\": 85.0, \"episode43\": 85.0, \"episode44\": 85.0, \"episode45\": 85.0, \"episode46\": 88.0, \"episode47\": 88.0, \"episode48\": 88.0, \"episode49\": 88.0, \"episode50\": 88.0, \"episode51\": 88.0, \"episode52\": 88.0, \"episode53\": 88.0, \"episode54\": 88.0, \"episode55\": 92.0, \"episode56\": 92.0, \"episode57\": 94.0, \"episode58\": 94.0, \"episode59\": 94.0, \"episode60\": 100.0, \"episode61\": 100.0, \"episode62\": 100.0, \"episode63\": 100.0, \"episode64\": 115.0, \"episode65\": 115.0, \"episode66\": 115.0, \"episode67\": 115.0}, {\"source\": 4, \"target\": 7, \"episode0\": 15.0, \"episode1\": 24.0, \"episode2\": 32.0, \"episode3\": 38.0, \"episode4\": 47.0, \"episode5\": 47.0, \"episode6\": 61.0, \"episode7\": 71.0, \"episode8\": 79.0, \"episode9\": 83.0, \"episode10\": 93.0, \"episode11\": 100.0, \"episode12\": 102.0, \"episode13\": 104.0, \"episode14\": 110.0, \"episode15\": 114.0, \"episode16\": 120.0, \"episode17\": 129.0, \"episode18\": 133.0, \"episode19\": 139.0, \"episode20\": 150.0, \"episode21\": 160.0, \"episode22\": 169.0, \"episode23\": 174.0, \"episode24\": 178.0, \"episode25\": 187.0, \"episode26\": 193.0, \"episode27\": 199.0, \"episode28\": 204.0, \"episode29\": 204.0, \"episode30\": 204.0, \"episode31\": 204.0, \"episode32\": 212.0, \"episode33\": 212.0, \"episode34\": 212.0, \"episode35\": 212.0, \"episode36\": 217.0, \"episode37\": 217.0, \"episode38\": 217.0, \"episode39\": 217.0, \"episode40\": 217.0, \"episode41\": 217.0, \"episode42\": 227.0, \"episode43\": 227.0, \"episode44\": 227.0, \"episode45\": 227.0, \"episode46\": 236.0, \"episode47\": 236.0, \"episode48\": 238.0, \"episode49\": 238.0, \"episode50\": 238.0, \"episode51\": 238.0, \"episode52\": 238.0, \"episode53\": 238.0, \"episode54\": 238.0, \"episode55\": 241.0, \"episode56\": 241.0, \"episode57\": 242.0, \"episode58\": 244.0, \"episode59\": 244.0, \"episode60\": 254.0, \"episode61\": 256.0, \"episode62\": 256.0, \"episode63\": 256.0, \"episode64\": 261.0, \"episode65\": 261.0, \"episode66\": 261.0, \"episode67\": 262.0}, {\"source\": 4, \"target\": 8, \"episode0\": 13.0, \"episode1\": 22.0, \"episode2\": 25.0, \"episode3\": 25.0, \"episode4\": 25.0, \"episode5\": 32.0, \"episode6\": 38.0, \"episode7\": 38.0, \"episode8\": 38.0, \"episode9\": 38.0, \"episode10\": 42.0, \"episode11\": 42.0, \"episode12\": 44.0, \"episode13\": 44.0, \"episode14\": 46.0, \"episode15\": 47.0, \"episode16\": 49.0, \"episode17\": 49.0, \"episode18\": 54.0, \"episode19\": 57.0, \"episode20\": 61.0, \"episode21\": 68.0, \"episode22\": 73.0, \"episode23\": 76.0, \"episode24\": 80.0, \"episode25\": 83.0, \"episode26\": 84.0, \"episode27\": 89.0, \"episode28\": 92.0, \"episode29\": 92.0, \"episode30\": 92.0, \"episode31\": 92.0, \"episode32\": 98.0, \"episode33\": 98.0, \"episode34\": 98.0, \"episode35\": 98.0, \"episode36\": 102.0, \"episode37\": 102.0, \"episode38\": 102.0, \"episode39\": 102.0, \"episode40\": 102.0, \"episode41\": 102.0, \"episode42\": 109.0, \"episode43\": 109.0, \"episode44\": 109.0, \"episode45\": 109.0, \"episode46\": 113.0, \"episode47\": 113.0, \"episode48\": 115.0, \"episode49\": 115.0, \"episode50\": 115.0, \"episode51\": 115.0, \"episode52\": 115.0, \"episode53\": 115.0, \"episode54\": 115.0, \"episode55\": 130.0, \"episode56\": 130.0, \"episode57\": 140.0, \"episode58\": 140.0, \"episode59\": 142.0, \"episode60\": 143.0, \"episode61\": 144.0, \"episode62\": 144.0, \"episode63\": 144.0, \"episode64\": 150.0, \"episode65\": 150.0, \"episode66\": 150.0, \"episode67\": 150.0}, {\"source\": 5, \"target\": 6, \"episode0\": 4.0, \"episode1\": 6.0, \"episode2\": 6.0, \"episode3\": 6.0, \"episode4\": 6.0, \"episode5\": 6.0, \"episode6\": 10.0, \"episode7\": 10.0, \"episode8\": 10.0, \"episode9\": 12.0, \"episode10\": 14.0, \"episode11\": 14.0, \"episode12\": 16.0, \"episode13\": 16.0, \"episode14\": 16.0, \"episode15\": 16.0, \"episode16\": 16.0, \"episode17\": 17.0, \"episode18\": 18.0, \"episode19\": 18.0, \"episode20\": 18.0, \"episode21\": 19.0, \"episode22\": 22.0, \"episode23\": 23.0, \"episode24\": 25.0, \"episode25\": 28.0, \"episode26\": 28.0, \"episode27\": 30.0, \"episode28\": 30.0, \"episode29\": 30.0, \"episode30\": 30.0, \"episode31\": 30.0, \"episode32\": 32.0, \"episode33\": 32.0, \"episode34\": 32.0, \"episode35\": 32.0, \"episode36\": 32.0, \"episode37\": 32.0, \"episode38\": 32.0, \"episode39\": 32.0, \"episode40\": 32.0, \"episode41\": 32.0, \"episode42\": 33.0, \"episode43\": 33.0, \"episode44\": 33.0, \"episode45\": 33.0, \"episode46\": 35.0, \"episode47\": 35.0, \"episode48\": 35.0, \"episode49\": 35.0, \"episode50\": 35.0, \"episode51\": 35.0, \"episode52\": 35.0, \"episode53\": 35.0, \"episode54\": 35.0, \"episode55\": 35.0, \"episode56\": 35.0, \"episode57\": 35.0, \"episode58\": 35.0, \"episode59\": 35.0, \"episode60\": 35.0, \"episode61\": 35.0, \"episode62\": 35.0, \"episode63\": 35.0, \"episode64\": 35.0, \"episode65\": 36.0, \"episode66\": 37.0, \"episode67\": 37.0}, {\"source\": 5, \"target\": 7, \"episode0\": 14.0, \"episode1\": 21.0, \"episode2\": 25.0, \"episode3\": 31.0, \"episode4\": 37.0, \"episode5\": 45.0, \"episode6\": 55.0, \"episode7\": 77.0, \"episode8\": 81.0, \"episode9\": 83.0, \"episode10\": 92.0, \"episode11\": 97.0, \"episode12\": 99.0, \"episode13\": 105.0, \"episode14\": 109.0, \"episode15\": 115.0, \"episode16\": 116.0, \"episode17\": 121.0, \"episode18\": 122.0, \"episode19\": 134.0, \"episode20\": 138.0, \"episode21\": 144.0, \"episode22\": 154.0, \"episode23\": 164.0, \"episode24\": 168.0, \"episode25\": 174.0, \"episode26\": 182.0, \"episode27\": 197.0, \"episode28\": 202.0, \"episode29\": 202.0, \"episode30\": 202.0, \"episode31\": 202.0, \"episode32\": 211.0, \"episode33\": 211.0, \"episode34\": 211.0, \"episode35\": 211.0, \"episode36\": 217.0, \"episode37\": 217.0, \"episode38\": 217.0, \"episode39\": 217.0, \"episode40\": 217.0, \"episode41\": 217.0, \"episode42\": 227.0, \"episode43\": 227.0, \"episode44\": 227.0, \"episode45\": 227.0, \"episode46\": 234.0, \"episode47\": 234.0, \"episode48\": 236.0, \"episode49\": 236.0, \"episode50\": 236.0, \"episode51\": 236.0, \"episode52\": 236.0, \"episode53\": 238.0, \"episode54\": 242.0, \"episode55\": 244.0, \"episode56\": 244.0, \"episode57\": 246.0, \"episode58\": 247.0, \"episode59\": 248.0, \"episode60\": 248.0, \"episode61\": 248.0, \"episode62\": 253.0, \"episode63\": 255.0, \"episode64\": 255.0, \"episode65\": 256.0, \"episode66\": 260.0, \"episode67\": 261.0}, {\"source\": 5, \"target\": 8, \"episode0\": 10.0, \"episode1\": 12.0, \"episode2\": 12.0, \"episode3\": 12.0, \"episode4\": 12.0, \"episode5\": 12.0, \"episode6\": 19.0, \"episode7\": 19.0, \"episode8\": 19.0, \"episode9\": 19.0, \"episode10\": 21.0, \"episode11\": 21.0, \"episode12\": 23.0, \"episode13\": 23.0, \"episode14\": 23.0, \"episode15\": 23.0, \"episode16\": 24.0, \"episode17\": 24.0, \"episode18\": 25.0, \"episode19\": 25.0, \"episode20\": 25.0, \"episode21\": 27.0, \"episode22\": 27.0, \"episode23\": 28.0, \"episode24\": 31.0, \"episode25\": 32.0, \"episode26\": 32.0, \"episode27\": 35.0, \"episode28\": 35.0, \"episode29\": 35.0, \"episode30\": 35.0, \"episode31\": 35.0, \"episode32\": 40.0, \"episode33\": 40.0, \"episode34\": 40.0, \"episode35\": 40.0, \"episode36\": 43.0, \"episode37\": 43.0, \"episode38\": 43.0, \"episode39\": 43.0, \"episode40\": 43.0, \"episode41\": 43.0, \"episode42\": 51.0, \"episode43\": 51.0, \"episode44\": 51.0, \"episode45\": 51.0, \"episode46\": 54.0, \"episode47\": 54.0, \"episode48\": 55.0, \"episode49\": 55.0, \"episode50\": 55.0, \"episode51\": 55.0, \"episode52\": 55.0, \"episode53\": 55.0, \"episode54\": 55.0, \"episode55\": 59.0, \"episode56\": 59.0, \"episode57\": 61.0, \"episode58\": 61.0, \"episode59\": 61.0, \"episode60\": 61.0, \"episode61\": 65.0, \"episode62\": 73.0, \"episode63\": 74.0, \"episode64\": 74.0, \"episode65\": 75.0, \"episode66\": 76.0, \"episode67\": 76.0}, {\"source\": 6, \"target\": 7, \"episode0\": 2.0, \"episode1\": 8.0, \"episode2\": 11.0, \"episode3\": 12.0, \"episode4\": 12.0, \"episode5\": 12.0, \"episode6\": 13.0, \"episode7\": 15.0, \"episode8\": 18.0, \"episode9\": 22.0, \"episode10\": 25.0, \"episode11\": 25.0, \"episode12\": 27.0, \"episode13\": 27.0, \"episode14\": 27.0, \"episode15\": 27.0, \"episode16\": 30.0, \"episode17\": 36.0, \"episode18\": 38.0, \"episode19\": 39.0, \"episode20\": 55.0, \"episode21\": 59.0, \"episode22\": 63.0, \"episode23\": 65.0, \"episode24\": 67.0, \"episode25\": 73.0, \"episode26\": 75.0, \"episode27\": 88.0, \"episode28\": 93.0, \"episode29\": 93.0, \"episode30\": 93.0, \"episode31\": 93.0, \"episode32\": 99.0, \"episode33\": 99.0, \"episode34\": 99.0, \"episode35\": 99.0, \"episode36\": 100.0, \"episode37\": 100.0, \"episode38\": 100.0, \"episode39\": 100.0, \"episode40\": 100.0, \"episode41\": 100.0, \"episode42\": 102.0, \"episode43\": 102.0, \"episode44\": 102.0, \"episode45\": 102.0, \"episode46\": 107.0, \"episode47\": 107.0, \"episode48\": 107.0, \"episode49\": 107.0, \"episode50\": 107.0, \"episode51\": 107.0, \"episode52\": 107.0, \"episode53\": 113.0, \"episode54\": 113.0, \"episode55\": 113.0, \"episode56\": 115.0, \"episode57\": 115.0, \"episode58\": 115.0, \"episode59\": 115.0, \"episode60\": 118.0, \"episode61\": 118.0, \"episode62\": 118.0, \"episode63\": 118.0, \"episode64\": 128.0, \"episode65\": 132.0, \"episode66\": 133.0, \"episode67\": 136.0}, {\"source\": 6, \"target\": 8, \"episode0\": 2.0, \"episode1\": 5.0, \"episode2\": 13.0, \"episode3\": 13.0, \"episode4\": 13.0, \"episode5\": 14.0, \"episode6\": 20.0, \"episode7\": 20.0, \"episode8\": 26.0, \"episode9\": 26.0, \"episode10\": 28.0, \"episode11\": 29.0, \"episode12\": 31.0, \"episode13\": 31.0, \"episode14\": 31.0, \"episode15\": 31.0, \"episode16\": 33.0, \"episode17\": 33.0, \"episode18\": 38.0, \"episode19\": 39.0, \"episode20\": 43.0, \"episode21\": 43.0, \"episode22\": 43.0, \"episode23\": 44.0, \"episode24\": 46.0, \"episode25\": 48.0, \"episode26\": 48.0, \"episode27\": 49.0, \"episode28\": 54.0, \"episode29\": 54.0, \"episode30\": 54.0, \"episode31\": 54.0, \"episode32\": 57.0, \"episode33\": 57.0, \"episode34\": 57.0, \"episode35\": 57.0, \"episode36\": 57.0, \"episode37\": 57.0, \"episode38\": 57.0, \"episode39\": 57.0, \"episode40\": 57.0, \"episode41\": 57.0, \"episode42\": 59.0, \"episode43\": 59.0, \"episode44\": 59.0, \"episode45\": 59.0, \"episode46\": 60.0, \"episode47\": 60.0, \"episode48\": 60.0, \"episode49\": 60.0, \"episode50\": 60.0, \"episode51\": 60.0, \"episode52\": 60.0, \"episode53\": 60.0, \"episode54\": 60.0, \"episode55\": 64.0, \"episode56\": 64.0, \"episode57\": 66.0, \"episode58\": 66.0, \"episode59\": 66.0, \"episode60\": 66.0, \"episode61\": 66.0, \"episode62\": 66.0, \"episode63\": 66.0, \"episode64\": 71.0, \"episode65\": 74.0, \"episode66\": 76.0, \"episode67\": 76.0}, {\"source\": 7, \"target\": 8, \"episode0\": 11.0, \"episode1\": 18.0, \"episode2\": 24.0, \"episode3\": 24.0, \"episode4\": 24.0, \"episode5\": 24.0, \"episode6\": 27.0, \"episode7\": 27.0, \"episode8\": 27.0, \"episode9\": 27.0, \"episode10\": 29.0, \"episode11\": 30.0, \"episode12\": 32.0, \"episode13\": 32.0, \"episode14\": 32.0, \"episode15\": 32.0, \"episode16\": 34.0, \"episode17\": 34.0, \"episode18\": 44.0, \"episode19\": 52.0, \"episode20\": 59.0, \"episode21\": 62.0, \"episode22\": 67.0, \"episode23\": 70.0, \"episode24\": 74.0, \"episode25\": 76.0, \"episode26\": 81.0, \"episode27\": 86.0, \"episode28\": 91.0, \"episode29\": 91.0, \"episode30\": 91.0, \"episode31\": 91.0, \"episode32\": 97.0, \"episode33\": 97.0, \"episode34\": 97.0, \"episode35\": 97.0, \"episode36\": 102.0, \"episode37\": 102.0, \"episode38\": 102.0, \"episode39\": 102.0, \"episode40\": 102.0, \"episode41\": 102.0, \"episode42\": 112.0, \"episode43\": 112.0, \"episode44\": 112.0, \"episode45\": 112.0, \"episode46\": 116.0, \"episode47\": 116.0, \"episode48\": 118.0, \"episode49\": 118.0, \"episode50\": 118.0, \"episode51\": 118.0, \"episode52\": 118.0, \"episode53\": 118.0, \"episode54\": 118.0, \"episode55\": 119.0, \"episode56\": 121.0, \"episode57\": 123.0, \"episode58\": 123.0, \"episode59\": 123.0, \"episode60\": 123.0, \"episode61\": 130.0, \"episode62\": 133.0, \"episode63\": 133.0, \"episode64\": 136.0, \"episode65\": 138.0, \"episode66\": 139.0, \"episode67\": 139.0}]\n"
     ]
    }
   ],
   "source": [
    "print(json.dumps(links))"
   ]
  }
 ],
 "metadata": {
  "kernelspec": {
   "display_name": "Python 3",
   "language": "python",
   "name": "python3"
  },
  "language_info": {
   "codemirror_mode": {
    "name": "ipython",
    "version": 3
   },
   "file_extension": ".py",
   "mimetype": "text/x-python",
   "name": "python",
   "nbconvert_exporter": "python",
   "pygments_lexer": "ipython3",
   "version": "3.7.3"
  }
 },
 "nbformat": 4,
 "nbformat_minor": 2
}
